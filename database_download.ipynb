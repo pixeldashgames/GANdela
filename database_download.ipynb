{
 "cells": [
  {
   "cell_type": "code",
   "execution_count": null,
   "metadata": {},
   "outputs": [],
   "source": [
    "import ee\n",
    "import ee.batch\n",
    "import pyperclip"
   ]
  },
  {
   "cell_type": "code",
   "execution_count": null,
   "metadata": {},
   "outputs": [],
   "source": [
    "# Initialize the Earth Engine library.\n",
    "ee.Authenticate()\n",
    "ee.Initialize(project='pixelcampione-satelital2map')\n"
   ]
  },
  {
   "cell_type": "code",
   "execution_count": 52,
   "metadata": {},
   "outputs": [],
   "source": [
    "import ee.data\n",
    "\n",
    "\n",
    "satellital_ids = []\n",
    "elevation_ids = []"
   ]
  },
  {
   "cell_type": "code",
   "execution_count": null,
   "metadata": {},
   "outputs": [],
   "source": [
    "import ee.batch\n",
    "\n",
    "\n",
    "def export_elevation(dataset_image,area_of_interest, filename, copy: bool = True):\n",
    "    dataset = ee.image.Image(dataset_image)\n",
    "\n",
    "    selected = dataset.select('elevation')\n",
    "    # Define export parameters.\n",
    "    task = ee.batch.Export.image.toDrive(**{\n",
    "        'image': selected,\n",
    "        'description': 'elevation_to_drive',\n",
    "        'fileNamePrefix': filename,\n",
    "        'scale': 90,  # Adjust scale if necessary\n",
    "        'region': area_of_interest,\n",
    "        'fileFormat': 'GeoTIFF',\n",
    "        'folder': 'dataset'  # Specify the Google Drive folder name here.\n",
    "    })\n",
    "\n",
    "    # Start the export task.\n",
    "    task.start()\n",
    "\n",
    "    # Print the task ID\n",
    "    print(f'Task ID: {task.id}')\n",
    "    elevation_ids.append(task.id)\n",
    "\n",
    "\n",
    "def export_rgb(image: ee.image.Image,area_of_interest, filename, copy: bool = True):\n",
    "        \n",
    "    # Select the RGB bands\n",
    "    selected = image.select(['B4', 'B3', 'B2'])\n",
    "\n",
    "    # Define export parameters.\n",
    "    task = ee.batch.Export.image.toDrive(**{\n",
    "        'image': selected,\n",
    "        'description':'rgb_to_drive',\n",
    "        'fileNamePrefix': filename,\n",
    "        'scale': 30,  # Adjust scale if necessary\n",
    "        'region': area_of_interest,\n",
    "        'fileFormat': 'GeoTIFF',\n",
    "        'folder': 'dataset'  # Specify the Google Drive folder name here.\n",
    "    })\n",
    "\n",
    "    # Start the export task.\n",
    "    task.start()\n",
    "\n",
    "    # Print the task ID\n",
    "    print(f'Task ID: {task.id}')\n",
    "    satellital_ids.append(task.id)"
   ]
  },
  {
   "cell_type": "code",
   "execution_count": null,
   "metadata": {},
   "outputs": [],
   "source": [
    "center = {\n",
    "    'longitude': -120.0,\n",
    "    'latitude': 40.0\n",
    "}\n",
    "offset = 0.10\n",
    "\n",
    "# 5 x 5\n",
    "lat_mult = 3\n",
    "lon_mult = 3\n",
    "index = {\n",
    "    'start_lat': 6*lat_mult,\n",
    "    'start_lon': 6*lon_mult,\n",
    "    'end_lat': 6*(lat_mult+1),\n",
    "    'end_lon': 6*(lon_mult+1)\n",
    "}\n",
    "# Me quede a partir 361 , incluyendolo\n",
    "temp = 649"
   ]
  },
  {
   "cell_type": "code",
   "execution_count": null,
   "metadata": {},
   "outputs": [],
   "source": [
    "counter = temp\n",
    "for i in range(index['start_lat'],index['end_lat']):\n",
    "    for j in range(index['start_lon'], index['end_lon']):\n",
    "        # Define an area of interest (for example, a bounding box around Mt. Everest).\n",
    "        start = ee.geometry.Geometry.Rectangle([center['longitude'] - offset + 2*offset*j, center['latitude'] - offset - 2*offset*i\n",
    "                                                , center['longitude'] + offset+ 2*offset*j, center['latitude'] + offset - 2*offset*i])\n",
    "        # Call the function with your area of interest and desired filename prefix.\n",
    "        export_elevation(\"CGIAR/SRTM90_V4\",start, f'elevation_{counter}')\n",
    "        counter += 1\n",
    "\n",
    "        print(\"j = \",j)\n",
    "    print(\"i = \",i)\n",
    "\n",
    "print(\"-------------------------ELEVATION FINISHED-------------------------\")"
   ]
  },
  {
   "cell_type": "code",
   "execution_count": null,
   "metadata": {},
   "outputs": [],
   "source": [
    "counter = temp\n",
    "for i in range(index['start_lat'],index['end_lat']):\n",
    "    for j in range(index['start_lon'], index['end_lon']):\n",
    "        # Define an area of interest (for example, a bounding box around Mt. Everest).\n",
    "        start = ee.geometry.Geometry.Rectangle([center['longitude'] - offset + 2*offset*j, center['latitude'] - offset + 2*offset*i\n",
    "                                                , center['longitude'] + offset+ 2*offset*j, center['latitude'] + offset + 2*offset*i])\n",
    "\n",
    "        # Convert ImageCollection to Image\n",
    "        image = ee.imagecollection.ImageCollection(\"LANDSAT/LC09/C02/T1\").filterBounds(start).mosaic()\n",
    "        \n",
    "        # Call the function with your area of interest and desired filename prefix.\n",
    "        export_rgb(image, start, f'satellite_{counter}')\n",
    "        counter += 1\n",
    "        \n",
    "\n",
    "        print(\"j = \",j)\n",
    "    print(\"i = \",i)\n",
    "\n",
    "print(\"-------------------------SATELLITE FINISHED-------------------------\")"
   ]
  },
  {
   "cell_type": "code",
   "execution_count": null,
   "metadata": {},
   "outputs": [],
   "source": [
    "print(\"Export finished!\")\n",
    "pyperclip.copy(\"\\'satellital\\': \" + str(satellital_ids)+\",\" +\"\\n\"\n",
    "               \"\\'elevation\\': \" + str(elevation_ids) + \"\\n\")\n"
   ]
  }
 ],
 "metadata": {
  "kernelspec": {
   "display_name": "Python 3",
   "language": "python",
   "name": "python3"
  },
  "language_info": {
   "codemirror_mode": {
    "name": "ipython",
    "version": 3
   },
   "file_extension": ".py",
   "mimetype": "text/x-python",
   "name": "python",
   "nbconvert_exporter": "python",
   "pygments_lexer": "ipython3",
   "version": "3.11.6"
  }
 },
 "nbformat": 4,
 "nbformat_minor": 2
}
