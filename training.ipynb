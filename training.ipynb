{
 "cells": [
  {
   "cell_type": "code",
   "execution_count": 1,
   "metadata": {},
   "outputs": [
    {
     "name": "stderr",
     "output_type": "stream",
     "text": [
      "ERROR:albumentations.check_version:Error fetching version info\n",
      "Traceback (most recent call last):\n",
      "  File \"c:\\Users\\Alfredo\\AppData\\Local\\Programs\\Python\\Python311\\Lib\\urllib\\request.py\", line 1348, in do_open\n",
      "    h.request(req.get_method(), req.selector, req.data, headers,\n",
      "  File \"c:\\Users\\Alfredo\\AppData\\Local\\Programs\\Python\\Python311\\Lib\\http\\client.py\", line 1286, in request\n",
      "    self._send_request(method, url, body, headers, encode_chunked)\n",
      "  File \"c:\\Users\\Alfredo\\AppData\\Local\\Programs\\Python\\Python311\\Lib\\http\\client.py\", line 1332, in _send_request\n",
      "    self.endheaders(body, encode_chunked=encode_chunked)\n",
      "  File \"c:\\Users\\Alfredo\\AppData\\Local\\Programs\\Python\\Python311\\Lib\\http\\client.py\", line 1281, in endheaders\n",
      "    self._send_output(message_body, encode_chunked=encode_chunked)\n",
      "  File \"c:\\Users\\Alfredo\\AppData\\Local\\Programs\\Python\\Python311\\Lib\\http\\client.py\", line 1041, in _send_output\n",
      "    self.send(msg)\n",
      "  File \"c:\\Users\\Alfredo\\AppData\\Local\\Programs\\Python\\Python311\\Lib\\http\\client.py\", line 979, in send\n",
      "    self.connect()\n",
      "  File \"c:\\Users\\Alfredo\\AppData\\Local\\Programs\\Python\\Python311\\Lib\\http\\client.py\", line 1458, in connect\n",
      "    self.sock = self._context.wrap_socket(self.sock,\n",
      "                ^^^^^^^^^^^^^^^^^^^^^^^^^^^^^^^^^^^^\n",
      "  File \"c:\\Users\\Alfredo\\AppData\\Local\\Programs\\Python\\Python311\\Lib\\ssl.py\", line 517, in wrap_socket\n",
      "    return self.sslsocket_class._create(\n",
      "           ^^^^^^^^^^^^^^^^^^^^^^^^^^^^^\n",
      "  File \"c:\\Users\\Alfredo\\AppData\\Local\\Programs\\Python\\Python311\\Lib\\ssl.py\", line 1108, in _create\n",
      "    self.do_handshake()\n",
      "  File \"c:\\Users\\Alfredo\\AppData\\Local\\Programs\\Python\\Python311\\Lib\\ssl.py\", line 1379, in do_handshake\n",
      "    self._sslobj.do_handshake()\n",
      "TimeoutError: _ssl.c:989: The handshake operation timed out\n",
      "\n",
      "During handling of the above exception, another exception occurred:\n",
      "\n",
      "Traceback (most recent call last):\n",
      "  File \"c:\\Users\\Alfredo\\AppData\\Local\\Programs\\Python\\Python311\\Lib\\site-packages\\albumentations\\check_version.py\", line 29, in fetch_version_info\n",
      "    with opener.open(url, timeout=2) as response:\n",
      "         ^^^^^^^^^^^^^^^^^^^^^^^^^^^\n",
      "  File \"c:\\Users\\Alfredo\\AppData\\Local\\Programs\\Python\\Python311\\Lib\\urllib\\request.py\", line 519, in open\n",
      "    response = self._open(req, data)\n",
      "               ^^^^^^^^^^^^^^^^^^^^^\n",
      "  File \"c:\\Users\\Alfredo\\AppData\\Local\\Programs\\Python\\Python311\\Lib\\urllib\\request.py\", line 536, in _open\n",
      "    result = self._call_chain(self.handle_open, protocol, protocol +\n",
      "             ^^^^^^^^^^^^^^^^^^^^^^^^^^^^^^^^^^^^^^^^^^^^^^^^^^^^^^^\n",
      "  File \"c:\\Users\\Alfredo\\AppData\\Local\\Programs\\Python\\Python311\\Lib\\urllib\\request.py\", line 496, in _call_chain\n",
      "    result = func(*args)\n",
      "             ^^^^^^^^^^^\n",
      "  File \"c:\\Users\\Alfredo\\AppData\\Local\\Programs\\Python\\Python311\\Lib\\urllib\\request.py\", line 1391, in https_open\n",
      "    return self.do_open(http.client.HTTPSConnection, req,\n",
      "           ^^^^^^^^^^^^^^^^^^^^^^^^^^^^^^^^^^^^^^^^^^^^^^\n",
      "  File \"c:\\Users\\Alfredo\\AppData\\Local\\Programs\\Python\\Python311\\Lib\\urllib\\request.py\", line 1351, in do_open\n",
      "    raise URLError(err)\n",
      "urllib.error.URLError: <urlopen error _ssl.c:989: The handshake operation timed out>\n"
     ]
    }
   ],
   "source": [
    "import torch\n",
    "from utils.utils import save_checkpoint, load_checkpoint, save_some_examples\n",
    "import torch.nn as nn\n",
    "import torch.optim as optim\n",
    "import config\n",
    "from DataSet.dataset import Satellite2Map_Data\n",
    "from pix2pix.Generator import Generator\n",
    "from pix2pix.Discriminator import Discriminator\n",
    "from torch.utils.data import DataLoader\n",
    "from tqdm.notebook import tqdm\n",
    "\n",
    "\n",
    "torch.backends.cudnn.benchmark = True\n",
    "Gen_loss = []\n",
    "Dis_loss = []\n",
    "step_ahead = 4"
   ]
  },
  {
   "cell_type": "code",
   "execution_count": 2,
   "metadata": {},
   "outputs": [],
   "source": [
    "def train(netG: Generator, netD: Discriminator, train_dl, OptimizerG: optim.Adam, OptimizerD: optim.Adam, gen_loss, dis_loss):\n",
    "    loop = tqdm(train_dl, dynamic_ncols=True)\n",
    "    for idx, (x, y) in enumerate(loop):\n",
    "        x = x.to(config.DEVICE)\n",
    "        y = y.to(config.DEVICE)\n",
    "        y = y.permute(0,3,1,2).float()\n",
    "\n",
    "        # Train Discriminator\n",
    "        y_fake = netG(x).float()\n",
    "        d_real = netD(x, y)\n",
    "        d_real_loss = dis_loss(d_real, torch.ones_like(d_real))\n",
    "        d_fake = netD(x, y_fake.detach())\n",
    "        d_fake_loss = dis_loss(d_fake, torch.zeros_like(d_fake))\n",
    "        d_loss = (d_real_loss + d_fake_loss) / 2\n",
    "\n",
    "        netD.zero_grad()\n",
    "        Dis_loss.append(d_loss.item())\n",
    "        d_loss.backward()\n",
    "        OptimizerD.step()\n",
    "\n",
    "        # Train Generator\n",
    "        d_fake = netD(x, y_fake)\n",
    "        g_fake_loss = gen_loss(d_fake, torch.ones_like(d_fake)) \n",
    "        loss = gen_loss(y_fake, y) # * config.L1_LAMBDA\n",
    "        g_loss = (g_fake_loss + loss)/2\n",
    "\n",
    "\n",
    "        Gen_loss.append(g_loss.item())\n",
    "        g_loss.backward()\n",
    "        OptimizerG.step()\n",
    "\n",
    "        for _ in range(step_ahead):\n",
    "            OptimizerG.zero_grad()\n",
    "            y_fake = netG(x).float()\n",
    "            d_fake = netD(x, y_fake)\n",
    "            g_fake_loss = gen_loss(d_fake, torch.ones_like(d_fake))\n",
    "            loss = gen_loss(y_fake, y) # * config.L1_LAMBDA\n",
    "\n",
    "            g_loss = (g_fake_loss + loss)/2\n",
    "            Gen_loss.append(g_loss.item())\n",
    "            g_loss.backward()\n",
    "            OptimizerG.step()\n",
    "\n",
    "        if idx % 10 == 0:\n",
    "            loop.set_postfix(\n",
    "                d_real=torch.sigmoid(d_real).mean().item(),\n",
    "                d_fake=torch.sigmoid(d_fake).mean().item(),\n",
    "            )\n",
    "    print(\"d_real: \" + str(torch.sigmoid(d_real).mean().item()))\n",
    "    print(\"d_fake: \" + str(torch.sigmoid(d_fake).mean().item()))"
   ]
  },
  {
   "cell_type": "code",
   "execution_count": 3,
   "metadata": {},
   "outputs": [
    {
     "data": {
      "application/vnd.jupyter.widget-view+json": {
       "model_id": "bb4dd1b5eb7e4c7b9acca897afb01e6a",
       "version_major": 2,
       "version_minor": 0
      },
      "text/plain": [
       "  0%|          | 0/34 [00:00<?, ?it/s]"
      ]
     },
     "metadata": {},
     "output_type": "display_data"
    },
    {
     "name": "stdout",
     "output_type": "stream",
     "text": [
      "d_real: 0.6371028423309326\n",
      "d_fake: 0.5288757085800171\n",
      "Epoch : 21  Gen Loss : 5623.4072265625 Disc Loss : 0.23264126479625702\n"
     ]
    },
    {
     "data": {
      "application/vnd.jupyter.widget-view+json": {
       "model_id": "b9fd64ba623341f18247381c75f6a54a",
       "version_major": 2,
       "version_minor": 0
      },
      "text/plain": [
       "  0%|          | 0/34 [00:00<?, ?it/s]"
      ]
     },
     "metadata": {},
     "output_type": "display_data"
    },
    {
     "name": "stdout",
     "output_type": "stream",
     "text": [
      "d_real: 0.7146334052085876\n",
      "d_fake: 0.5294208526611328\n",
      "save example\n",
      "Epoch : 22  Gen Loss : 5097.41552734375 Disc Loss : 0.22778692841529846\n"
     ]
    },
    {
     "data": {
      "application/vnd.jupyter.widget-view+json": {
       "model_id": "c856e37e34bd4f3c8ff122364152e61e",
       "version_major": 2,
       "version_minor": 0
      },
      "text/plain": [
       "  0%|          | 0/34 [00:00<?, ?it/s]"
      ]
     },
     "metadata": {},
     "output_type": "display_data"
    },
    {
     "name": "stdout",
     "output_type": "stream",
     "text": [
      "d_real: 0.6681365966796875\n",
      "d_fake: 0.5281392335891724\n",
      "Epoch : 23  Gen Loss : 4963.517578125 Disc Loss : 0.1456485241651535\n"
     ]
    },
    {
     "data": {
      "application/vnd.jupyter.widget-view+json": {
       "model_id": "28d8b3a31cc14f008deebb48bfed15a2",
       "version_major": 2,
       "version_minor": 0
      },
      "text/plain": [
       "  0%|          | 0/34 [00:00<?, ?it/s]"
      ]
     },
     "metadata": {},
     "output_type": "display_data"
    },
    {
     "name": "stdout",
     "output_type": "stream",
     "text": [
      "d_real: 0.5721899271011353\n",
      "d_fake: 0.5295363664627075\n",
      "save example\n",
      "Epoch : 24  Gen Loss : 4773.03857421875 Disc Loss : 0.3145977258682251\n"
     ]
    },
    {
     "data": {
      "application/vnd.jupyter.widget-view+json": {
       "model_id": "8013c36edd7d47e980fa4914c6568bff",
       "version_major": 2,
       "version_minor": 0
      },
      "text/plain": [
       "  0%|          | 0/34 [00:00<?, ?it/s]"
      ]
     },
     "metadata": {},
     "output_type": "display_data"
    },
    {
     "name": "stdout",
     "output_type": "stream",
     "text": [
      "d_real: 0.7413450479507446\n",
      "d_fake: 0.5216503143310547\n",
      "Epoch : 25  Gen Loss : 5542.5234375 Disc Loss : 0.18820640444755554\n"
     ]
    },
    {
     "data": {
      "application/vnd.jupyter.widget-view+json": {
       "model_id": "05830d5b78744fa3a60c8ef6b269c6d7",
       "version_major": 2,
       "version_minor": 0
      },
      "text/plain": [
       "  0%|          | 0/34 [00:00<?, ?it/s]"
      ]
     },
     "metadata": {},
     "output_type": "display_data"
    },
    {
     "name": "stdout",
     "output_type": "stream",
     "text": [
      "d_real: 0.6614007949829102\n",
      "d_fake: 0.5236060619354248\n",
      "save example\n",
      "Epoch : 26  Gen Loss : 4200.27490234375 Disc Loss : 0.1378692388534546\n"
     ]
    },
    {
     "data": {
      "application/vnd.jupyter.widget-view+json": {
       "model_id": "f80b26f2bf4648cf927e31f2fdb4cffa",
       "version_major": 2,
       "version_minor": 0
      },
      "text/plain": [
       "  0%|          | 0/34 [00:00<?, ?it/s]"
      ]
     },
     "metadata": {},
     "output_type": "display_data"
    },
    {
     "name": "stdout",
     "output_type": "stream",
     "text": [
      "d_real: 0.7073062658309937\n",
      "d_fake: 0.5230106711387634\n",
      "Epoch : 27  Gen Loss : 3676.354248046875 Disc Loss : 0.13460862636566162\n"
     ]
    },
    {
     "data": {
      "application/vnd.jupyter.widget-view+json": {
       "model_id": "4b8420c694014d7fae4163cce0683984",
       "version_major": 2,
       "version_minor": 0
      },
      "text/plain": [
       "  0%|          | 0/34 [00:00<?, ?it/s]"
      ]
     },
     "metadata": {},
     "output_type": "display_data"
    },
    {
     "name": "stdout",
     "output_type": "stream",
     "text": [
      "d_real: 0.7148381471633911\n",
      "d_fake: 0.5181271433830261\n",
      "save example\n",
      "Epoch : 28  Gen Loss : 4977.34521484375 Disc Loss : 0.10851652175188065\n"
     ]
    },
    {
     "data": {
      "application/vnd.jupyter.widget-view+json": {
       "model_id": "015e92d118d9402eb14db2278c52f959",
       "version_major": 2,
       "version_minor": 0
      },
      "text/plain": [
       "  0%|          | 0/34 [00:00<?, ?it/s]"
      ]
     },
     "metadata": {},
     "output_type": "display_data"
    },
    {
     "name": "stdout",
     "output_type": "stream",
     "text": [
      "d_real: 0.6537049412727356\n",
      "d_fake: 0.519221305847168\n",
      "Epoch : 29  Gen Loss : 3509.880859375 Disc Loss : 0.1477772295475006\n"
     ]
    },
    {
     "data": {
      "application/vnd.jupyter.widget-view+json": {
       "model_id": "2fd0e003d4b342f99ac091edb951dda9",
       "version_major": 2,
       "version_minor": 0
      },
      "text/plain": [
       "  0%|          | 0/34 [00:00<?, ?it/s]"
      ]
     },
     "metadata": {},
     "output_type": "display_data"
    },
    {
     "name": "stdout",
     "output_type": "stream",
     "text": [
      "d_real: 0.6682382822036743\n",
      "d_fake: 0.5161553025245667\n",
      "=> Saving checkpoint\n",
      "=> Saving checkpoint\n",
      "save example\n",
      "Epoch : 30  Gen Loss : 4486.74560546875 Disc Loss : 0.11118482798337936\n"
     ]
    },
    {
     "data": {
      "application/vnd.jupyter.widget-view+json": {
       "model_id": "16667d7488a34c66964ce392d1169211",
       "version_major": 2,
       "version_minor": 0
      },
      "text/plain": [
       "  0%|          | 0/34 [00:00<?, ?it/s]"
      ]
     },
     "metadata": {},
     "output_type": "display_data"
    },
    {
     "name": "stdout",
     "output_type": "stream",
     "text": [
      "d_real: 0.6746047735214233\n",
      "d_fake: 0.5141677260398865\n",
      "Epoch : 31  Gen Loss : 3550.29443359375 Disc Loss : 0.14807040989398956\n"
     ]
    },
    {
     "data": {
      "application/vnd.jupyter.widget-view+json": {
       "model_id": "bb12451a6129460aad3c8744bd9c9882",
       "version_major": 2,
       "version_minor": 0
      },
      "text/plain": [
       "  0%|          | 0/34 [00:00<?, ?it/s]"
      ]
     },
     "metadata": {},
     "output_type": "display_data"
    },
    {
     "name": "stdout",
     "output_type": "stream",
     "text": [
      "d_real: 0.711966335773468\n",
      "d_fake: 0.5161095857620239\n",
      "save example\n",
      "Epoch : 32  Gen Loss : 4149.6787109375 Disc Loss : 0.08293257653713226\n"
     ]
    },
    {
     "data": {
      "application/vnd.jupyter.widget-view+json": {
       "model_id": "bc798b7e6c0040cf89eb0c2d7d1aef7a",
       "version_major": 2,
       "version_minor": 0
      },
      "text/plain": [
       "  0%|          | 0/34 [00:00<?, ?it/s]"
      ]
     },
     "metadata": {},
     "output_type": "display_data"
    },
    {
     "name": "stdout",
     "output_type": "stream",
     "text": [
      "d_real: 0.7316001653671265\n",
      "d_fake: 0.5192095041275024\n",
      "Epoch : 33  Gen Loss : 3082.14208984375 Disc Loss : 0.15809984505176544\n"
     ]
    },
    {
     "data": {
      "application/vnd.jupyter.widget-view+json": {
       "model_id": "9eb45cd0feba4168b11665dc545572be",
       "version_major": 2,
       "version_minor": 0
      },
      "text/plain": [
       "  0%|          | 0/34 [00:00<?, ?it/s]"
      ]
     },
     "metadata": {},
     "output_type": "display_data"
    },
    {
     "name": "stdout",
     "output_type": "stream",
     "text": [
      "d_real: 0.7515535950660706\n",
      "d_fake: 0.5201954245567322\n",
      "save example\n",
      "Epoch : 34  Gen Loss : 4344.85791015625 Disc Loss : 0.1810034066438675\n"
     ]
    },
    {
     "data": {
      "application/vnd.jupyter.widget-view+json": {
       "model_id": "60abf4c86a7b48e48af1dc3cb7ecdd63",
       "version_major": 2,
       "version_minor": 0
      },
      "text/plain": [
       "  0%|          | 0/34 [00:00<?, ?it/s]"
      ]
     },
     "metadata": {},
     "output_type": "display_data"
    },
    {
     "name": "stdout",
     "output_type": "stream",
     "text": [
      "d_real: 0.6821620464324951\n",
      "d_fake: 0.515355110168457\n",
      "Epoch : 35  Gen Loss : 3307.2607421875 Disc Loss : 0.10354313999414444\n"
     ]
    },
    {
     "data": {
      "application/vnd.jupyter.widget-view+json": {
       "model_id": "b317deb5fe314cb983924e94639f0537",
       "version_major": 2,
       "version_minor": 0
      },
      "text/plain": [
       "  0%|          | 0/34 [00:00<?, ?it/s]"
      ]
     },
     "metadata": {},
     "output_type": "display_data"
    },
    {
     "name": "stdout",
     "output_type": "stream",
     "text": [
      "d_real: 0.7161970734596252\n",
      "d_fake: 0.5191569924354553\n",
      "save example\n",
      "Epoch : 36  Gen Loss : 5520.1689453125 Disc Loss : 0.09895314276218414\n"
     ]
    },
    {
     "data": {
      "application/vnd.jupyter.widget-view+json": {
       "model_id": "9bef9c161d7844a7be4bbda0f6ea4795",
       "version_major": 2,
       "version_minor": 0
      },
      "text/plain": [
       "  0%|          | 0/34 [00:00<?, ?it/s]"
      ]
     },
     "metadata": {},
     "output_type": "display_data"
    },
    {
     "name": "stdout",
     "output_type": "stream",
     "text": [
      "d_real: 0.6759148240089417\n",
      "d_fake: 0.5097847580909729\n",
      "Epoch : 37  Gen Loss : 4549.5263671875 Disc Loss : 0.10212407261133194\n"
     ]
    },
    {
     "data": {
      "application/vnd.jupyter.widget-view+json": {
       "model_id": "0b0446965e1247e1b3b7921d33207723",
       "version_major": 2,
       "version_minor": 0
      },
      "text/plain": [
       "  0%|          | 0/34 [00:00<?, ?it/s]"
      ]
     },
     "metadata": {},
     "output_type": "display_data"
    },
    {
     "name": "stdout",
     "output_type": "stream",
     "text": [
      "d_real: 0.6663081645965576\n",
      "d_fake: 0.5141023397445679\n",
      "save example\n",
      "Epoch : 38  Gen Loss : 3998.505859375 Disc Loss : 0.1278851330280304\n"
     ]
    },
    {
     "data": {
      "application/vnd.jupyter.widget-view+json": {
       "model_id": "e3de9706ec0045f185094d9e9977c42f",
       "version_major": 2,
       "version_minor": 0
      },
      "text/plain": [
       "  0%|          | 0/34 [00:00<?, ?it/s]"
      ]
     },
     "metadata": {},
     "output_type": "display_data"
    },
    {
     "name": "stdout",
     "output_type": "stream",
     "text": [
      "d_real: 0.6637830138206482\n",
      "d_fake: 0.5200480818748474\n",
      "Epoch : 39  Gen Loss : 3782.253662109375 Disc Loss : 0.11723489314317703\n"
     ]
    },
    {
     "data": {
      "application/vnd.jupyter.widget-view+json": {
       "model_id": "176be3aba664491c9885b1760be29dea",
       "version_major": 2,
       "version_minor": 0
      },
      "text/plain": [
       "  0%|          | 0/34 [00:00<?, ?it/s]"
      ]
     },
     "metadata": {},
     "output_type": "display_data"
    },
    {
     "name": "stdout",
     "output_type": "stream",
     "text": [
      "d_real: 0.6669871807098389\n",
      "d_fake: 0.5186947584152222\n",
      "=> Saving checkpoint\n",
      "=> Saving checkpoint\n",
      "save example\n",
      "Epoch : 40  Gen Loss : 4024.422607421875 Disc Loss : 0.08549428731203079\n"
     ]
    },
    {
     "data": {
      "application/vnd.jupyter.widget-view+json": {
       "model_id": "fcbdcc72a1f6422d98a9e86644a33028",
       "version_major": 2,
       "version_minor": 0
      },
      "text/plain": [
       "  0%|          | 0/34 [00:00<?, ?it/s]"
      ]
     },
     "metadata": {},
     "output_type": "display_data"
    },
    {
     "name": "stdout",
     "output_type": "stream",
     "text": [
      "d_real: 0.5772103071212769\n",
      "d_fake: 0.5192499160766602\n",
      "Epoch : 41  Gen Loss : 5124.45556640625 Disc Loss : 0.3033181428909302\n"
     ]
    },
    {
     "data": {
      "application/vnd.jupyter.widget-view+json": {
       "model_id": "ece91618bb86413380cef6eed33fffac",
       "version_major": 2,
       "version_minor": 0
      },
      "text/plain": [
       "  0%|          | 0/34 [00:00<?, ?it/s]"
      ]
     },
     "metadata": {},
     "output_type": "display_data"
    },
    {
     "name": "stdout",
     "output_type": "stream",
     "text": [
      "d_real: 0.6611862778663635\n",
      "d_fake: 0.518269419670105\n",
      "save example\n",
      "Epoch : 42  Gen Loss : 4925.66845703125 Disc Loss : 0.10078191757202148\n"
     ]
    },
    {
     "data": {
      "application/vnd.jupyter.widget-view+json": {
       "model_id": "6e2fad329d8a4e6e906e9a13f1ec2658",
       "version_major": 2,
       "version_minor": 0
      },
      "text/plain": [
       "  0%|          | 0/34 [00:00<?, ?it/s]"
      ]
     },
     "metadata": {},
     "output_type": "display_data"
    },
    {
     "name": "stdout",
     "output_type": "stream",
     "text": [
      "d_real: 0.7675027847290039\n",
      "d_fake: 0.5145741105079651\n",
      "Epoch : 43  Gen Loss : 4093.198974609375 Disc Loss : 0.24894589185714722\n"
     ]
    },
    {
     "data": {
      "application/vnd.jupyter.widget-view+json": {
       "model_id": "dab1c7dee9e4486eaa3e10e9253d9c82",
       "version_major": 2,
       "version_minor": 0
      },
      "text/plain": [
       "  0%|          | 0/34 [00:00<?, ?it/s]"
      ]
     },
     "metadata": {},
     "output_type": "display_data"
    },
    {
     "name": "stdout",
     "output_type": "stream",
     "text": [
      "d_real: 0.6537558436393738\n",
      "d_fake: 0.515307605266571\n",
      "save example\n",
      "Epoch : 44  Gen Loss : 3703.07275390625 Disc Loss : 0.13419033586978912\n"
     ]
    },
    {
     "data": {
      "application/vnd.jupyter.widget-view+json": {
       "model_id": "d9f926767f4d4f1a800cbd71ed0393d8",
       "version_major": 2,
       "version_minor": 0
      },
      "text/plain": [
       "  0%|          | 0/34 [00:00<?, ?it/s]"
      ]
     },
     "metadata": {},
     "output_type": "display_data"
    },
    {
     "name": "stdout",
     "output_type": "stream",
     "text": [
      "d_real: 0.6931123733520508\n",
      "d_fake: 0.5126268267631531\n",
      "Epoch : 45  Gen Loss : 5076.2001953125 Disc Loss : 0.07192487269639969\n"
     ]
    },
    {
     "data": {
      "application/vnd.jupyter.widget-view+json": {
       "model_id": "6e5a083f6bbe464ba8dda94ce6728333",
       "version_major": 2,
       "version_minor": 0
      },
      "text/plain": [
       "  0%|          | 0/34 [00:00<?, ?it/s]"
      ]
     },
     "metadata": {},
     "output_type": "display_data"
    },
    {
     "name": "stdout",
     "output_type": "stream",
     "text": [
      "d_real: 0.8293105959892273\n",
      "d_fake: 0.5146068334579468\n",
      "save example\n",
      "Epoch : 46  Gen Loss : 5714.49658203125 Disc Loss : 0.7093728184700012\n"
     ]
    },
    {
     "data": {
      "application/vnd.jupyter.widget-view+json": {
       "model_id": "2b8570dcf704490d814e798c1c86df0a",
       "version_major": 2,
       "version_minor": 0
      },
      "text/plain": [
       "  0%|          | 0/34 [00:00<?, ?it/s]"
      ]
     },
     "metadata": {},
     "output_type": "display_data"
    },
    {
     "name": "stdout",
     "output_type": "stream",
     "text": [
      "d_real: 0.6622035503387451\n",
      "d_fake: 0.5180482268333435\n",
      "Epoch : 47  Gen Loss : 3969.59228515625 Disc Loss : 0.11428926140069962\n"
     ]
    },
    {
     "data": {
      "application/vnd.jupyter.widget-view+json": {
       "model_id": "ac6bbaf0edc14ce9aac3b4a130494a9c",
       "version_major": 2,
       "version_minor": 0
      },
      "text/plain": [
       "  0%|          | 0/34 [00:00<?, ?it/s]"
      ]
     },
     "metadata": {},
     "output_type": "display_data"
    },
    {
     "name": "stdout",
     "output_type": "stream",
     "text": [
      "d_real: 0.6775172352790833\n",
      "d_fake: 0.5205495357513428\n",
      "save example\n",
      "Epoch : 48  Gen Loss : 4126.40283203125 Disc Loss : 0.08046229183673859\n"
     ]
    },
    {
     "data": {
      "application/vnd.jupyter.widget-view+json": {
       "model_id": "ca782a719d4c4fc295f7ec426b28f3cb",
       "version_major": 2,
       "version_minor": 0
      },
      "text/plain": [
       "  0%|          | 0/34 [00:00<?, ?it/s]"
      ]
     },
     "metadata": {},
     "output_type": "display_data"
    },
    {
     "name": "stdout",
     "output_type": "stream",
     "text": [
      "d_real: 0.8113366365432739\n",
      "d_fake: 0.5138424634933472\n",
      "Epoch : 49  Gen Loss : 4374.87060546875 Disc Loss : 0.5625137686729431\n"
     ]
    },
    {
     "data": {
      "application/vnd.jupyter.widget-view+json": {
       "model_id": "37d0aeb361464b06b1db7ed1d72a92a8",
       "version_major": 2,
       "version_minor": 0
      },
      "text/plain": [
       "  0%|          | 0/34 [00:00<?, ?it/s]"
      ]
     },
     "metadata": {},
     "output_type": "display_data"
    },
    {
     "name": "stdout",
     "output_type": "stream",
     "text": [
      "d_real: 0.7440994381904602\n",
      "d_fake: 0.5134973526000977\n",
      "=> Saving checkpoint\n",
      "=> Saving checkpoint\n",
      "save example\n",
      "Epoch : 50  Gen Loss : 3703.696533203125 Disc Loss : 0.1059546247124672\n"
     ]
    },
    {
     "data": {
      "application/vnd.jupyter.widget-view+json": {
       "model_id": "0ce8b40d1dfa436e8b2d51aef4cdd41f",
       "version_major": 2,
       "version_minor": 0
      },
      "text/plain": [
       "  0%|          | 0/34 [00:00<?, ?it/s]"
      ]
     },
     "metadata": {},
     "output_type": "display_data"
    },
    {
     "name": "stdout",
     "output_type": "stream",
     "text": [
      "d_real: 0.6990605592727661\n",
      "d_fake: 0.5217775702476501\n",
      "Epoch : 51  Gen Loss : 4945.9091796875 Disc Loss : 0.0818416178226471\n"
     ]
    },
    {
     "data": {
      "application/vnd.jupyter.widget-view+json": {
       "model_id": "734a84a44dca4706b4f9e470ba2d34f2",
       "version_major": 2,
       "version_minor": 0
      },
      "text/plain": [
       "  0%|          | 0/34 [00:00<?, ?it/s]"
      ]
     },
     "metadata": {},
     "output_type": "display_data"
    },
    {
     "name": "stdout",
     "output_type": "stream",
     "text": [
      "d_real: 0.6908401846885681\n",
      "d_fake: 0.5147282481193542\n",
      "save example\n",
      "Epoch : 52  Gen Loss : 4157.16943359375 Disc Loss : 0.09278328716754913\n"
     ]
    },
    {
     "data": {
      "application/vnd.jupyter.widget-view+json": {
       "model_id": "a4bfcffc186943d490cba59b35d0a542",
       "version_major": 2,
       "version_minor": 0
      },
      "text/plain": [
       "  0%|          | 0/34 [00:00<?, ?it/s]"
      ]
     },
     "metadata": {},
     "output_type": "display_data"
    },
    {
     "name": "stdout",
     "output_type": "stream",
     "text": [
      "d_real: 0.7693265676498413\n",
      "d_fake: 0.5136529803276062\n",
      "Epoch : 53  Gen Loss : 5854.47802734375 Disc Loss : 0.18497586250305176\n"
     ]
    },
    {
     "data": {
      "application/vnd.jupyter.widget-view+json": {
       "model_id": "8c987fab689b4aa1b8467852af7b32e1",
       "version_major": 2,
       "version_minor": 0
      },
      "text/plain": [
       "  0%|          | 0/34 [00:00<?, ?it/s]"
      ]
     },
     "metadata": {},
     "output_type": "display_data"
    },
    {
     "name": "stdout",
     "output_type": "stream",
     "text": [
      "d_real: 0.6567491888999939\n",
      "d_fake: 0.5208284258842468\n",
      "save example\n",
      "Epoch : 54  Gen Loss : 3600.17529296875 Disc Loss : 0.10678358376026154\n"
     ]
    },
    {
     "data": {
      "application/vnd.jupyter.widget-view+json": {
       "model_id": "15993b1d6ddf4f55995724773b8f1478",
       "version_major": 2,
       "version_minor": 0
      },
      "text/plain": [
       "  0%|          | 0/34 [00:00<?, ?it/s]"
      ]
     },
     "metadata": {},
     "output_type": "display_data"
    },
    {
     "name": "stdout",
     "output_type": "stream",
     "text": [
      "d_real: 0.7856647968292236\n",
      "d_fake: 0.5083008408546448\n",
      "Epoch : 55  Gen Loss : 4493.13818359375 Disc Loss : 0.23533159494400024\n"
     ]
    },
    {
     "data": {
      "application/vnd.jupyter.widget-view+json": {
       "model_id": "6673ffe2270f43d9baa126b5a257a96e",
       "version_major": 2,
       "version_minor": 0
      },
      "text/plain": [
       "  0%|          | 0/34 [00:00<?, ?it/s]"
      ]
     },
     "metadata": {},
     "output_type": "display_data"
    },
    {
     "name": "stdout",
     "output_type": "stream",
     "text": [
      "d_real: 0.6967257857322693\n",
      "d_fake: 0.5203234553337097\n",
      "save example\n",
      "Epoch : 56  Gen Loss : 3790.264404296875 Disc Loss : 0.07263428717851639\n"
     ]
    },
    {
     "data": {
      "application/vnd.jupyter.widget-view+json": {
       "model_id": "d410804bffb046c3ad72610c5e66f989",
       "version_major": 2,
       "version_minor": 0
      },
      "text/plain": [
       "  0%|          | 0/34 [00:00<?, ?it/s]"
      ]
     },
     "metadata": {},
     "output_type": "display_data"
    },
    {
     "name": "stdout",
     "output_type": "stream",
     "text": [
      "d_real: 0.7500354647636414\n",
      "d_fake: 0.5160638689994812\n",
      "Epoch : 57  Gen Loss : 4254.08544921875 Disc Loss : 0.09572631120681763\n"
     ]
    },
    {
     "data": {
      "application/vnd.jupyter.widget-view+json": {
       "model_id": "ebde8c4dd73041da83643740d1b7d586",
       "version_major": 2,
       "version_minor": 0
      },
      "text/plain": [
       "  0%|          | 0/34 [00:00<?, ?it/s]"
      ]
     },
     "metadata": {},
     "output_type": "display_data"
    },
    {
     "name": "stdout",
     "output_type": "stream",
     "text": [
      "d_real: 0.7792720198631287\n",
      "d_fake: 0.513077974319458\n",
      "save example\n",
      "Epoch : 58  Gen Loss : 4520.0322265625 Disc Loss : 0.1805599480867386\n"
     ]
    },
    {
     "data": {
      "application/vnd.jupyter.widget-view+json": {
       "model_id": "1ab18a28363a44888c85ae344945dd4e",
       "version_major": 2,
       "version_minor": 0
      },
      "text/plain": [
       "  0%|          | 0/34 [00:00<?, ?it/s]"
      ]
     },
     "metadata": {},
     "output_type": "display_data"
    },
    {
     "name": "stdout",
     "output_type": "stream",
     "text": [
      "d_real: 0.6790910959243774\n",
      "d_fake: 0.517051100730896\n",
      "Epoch : 59  Gen Loss : 6111.12646484375 Disc Loss : 0.07830654829740524\n"
     ]
    },
    {
     "data": {
      "application/vnd.jupyter.widget-view+json": {
       "model_id": "def24669ac284d7e84c9ec4f1946a2ba",
       "version_major": 2,
       "version_minor": 0
      },
      "text/plain": [
       "  0%|          | 0/34 [00:00<?, ?it/s]"
      ]
     },
     "metadata": {},
     "output_type": "display_data"
    },
    {
     "name": "stdout",
     "output_type": "stream",
     "text": [
      "d_real: 0.6748472452163696\n",
      "d_fake: 0.5190443396568298\n",
      "=> Saving checkpoint\n",
      "=> Saving checkpoint\n",
      "save example\n",
      "Epoch : 60  Gen Loss : 4374.3935546875 Disc Loss : 0.07343828678131104\n"
     ]
    },
    {
     "data": {
      "application/vnd.jupyter.widget-view+json": {
       "model_id": "e816221430c4419f9f234af01c8d64df",
       "version_major": 2,
       "version_minor": 0
      },
      "text/plain": [
       "  0%|          | 0/34 [00:00<?, ?it/s]"
      ]
     },
     "metadata": {},
     "output_type": "display_data"
    },
    {
     "name": "stdout",
     "output_type": "stream",
     "text": [
      "d_real: 0.6437650918960571\n",
      "d_fake: 0.5260228514671326\n",
      "Epoch : 61  Gen Loss : 3376.714599609375 Disc Loss : 0.12009070813655853\n"
     ]
    },
    {
     "data": {
      "application/vnd.jupyter.widget-view+json": {
       "model_id": "59b4e2c00599436d9599281a34e1322f",
       "version_major": 2,
       "version_minor": 0
      },
      "text/plain": [
       "  0%|          | 0/34 [00:00<?, ?it/s]"
      ]
     },
     "metadata": {},
     "output_type": "display_data"
    },
    {
     "name": "stdout",
     "output_type": "stream",
     "text": [
      "d_real: 0.7365204095840454\n",
      "d_fake: 0.5162258744239807\n",
      "save example\n",
      "Epoch : 62  Gen Loss : 3821.31494140625 Disc Loss : 0.07954257726669312\n"
     ]
    },
    {
     "data": {
      "application/vnd.jupyter.widget-view+json": {
       "model_id": "d66315638c004f33ac428deceb9e7bec",
       "version_major": 2,
       "version_minor": 0
      },
      "text/plain": [
       "  0%|          | 0/34 [00:00<?, ?it/s]"
      ]
     },
     "metadata": {},
     "output_type": "display_data"
    },
    {
     "name": "stdout",
     "output_type": "stream",
     "text": [
      "d_real: 0.751140296459198\n",
      "d_fake: 0.524662971496582\n",
      "Epoch : 63  Gen Loss : 4908.76806640625 Disc Loss : 0.16638030111789703\n"
     ]
    },
    {
     "data": {
      "application/vnd.jupyter.widget-view+json": {
       "model_id": "fd7b9bbffa2f49708f096e116133ab37",
       "version_major": 2,
       "version_minor": 0
      },
      "text/plain": [
       "  0%|          | 0/34 [00:00<?, ?it/s]"
      ]
     },
     "metadata": {},
     "output_type": "display_data"
    },
    {
     "name": "stdout",
     "output_type": "stream",
     "text": [
      "d_real: 0.669464111328125\n",
      "d_fake: 0.5199269652366638\n",
      "save example\n",
      "Epoch : 64  Gen Loss : 4327.30712890625 Disc Loss : 0.07802525907754898\n"
     ]
    },
    {
     "data": {
      "application/vnd.jupyter.widget-view+json": {
       "model_id": "a32a01364e4343ff8be3e3a06741a0ad",
       "version_major": 2,
       "version_minor": 0
      },
      "text/plain": [
       "  0%|          | 0/34 [00:00<?, ?it/s]"
      ]
     },
     "metadata": {},
     "output_type": "display_data"
    },
    {
     "name": "stdout",
     "output_type": "stream",
     "text": [
      "d_real: 0.6757120490074158\n",
      "d_fake: 0.5196437239646912\n",
      "Epoch : 65  Gen Loss : 3313.566162109375 Disc Loss : 0.0714927613735199\n"
     ]
    },
    {
     "data": {
      "application/vnd.jupyter.widget-view+json": {
       "model_id": "2086045b9af046989eabd1a766a4e7c5",
       "version_major": 2,
       "version_minor": 0
      },
      "text/plain": [
       "  0%|          | 0/34 [00:00<?, ?it/s]"
      ]
     },
     "metadata": {},
     "output_type": "display_data"
    },
    {
     "name": "stdout",
     "output_type": "stream",
     "text": [
      "d_real: 0.6894662976264954\n",
      "d_fake: 0.522530198097229\n",
      "save example\n",
      "Epoch : 66  Gen Loss : 4427.681640625 Disc Loss : 0.06923410296440125\n"
     ]
    },
    {
     "data": {
      "application/vnd.jupyter.widget-view+json": {
       "model_id": "9596041989c54194bac40787b7b6ce17",
       "version_major": 2,
       "version_minor": 0
      },
      "text/plain": [
       "  0%|          | 0/34 [00:00<?, ?it/s]"
      ]
     },
     "metadata": {},
     "output_type": "display_data"
    },
    {
     "name": "stdout",
     "output_type": "stream",
     "text": [
      "d_real: 0.7018680572509766\n",
      "d_fake: 0.520572304725647\n",
      "Epoch : 67  Gen Loss : 4353.56982421875 Disc Loss : 0.07020314037799835\n"
     ]
    },
    {
     "data": {
      "application/vnd.jupyter.widget-view+json": {
       "model_id": "d632f8ee54d64387a02304724adebaa3",
       "version_major": 2,
       "version_minor": 0
      },
      "text/plain": [
       "  0%|          | 0/34 [00:00<?, ?it/s]"
      ]
     },
     "metadata": {},
     "output_type": "display_data"
    },
    {
     "name": "stdout",
     "output_type": "stream",
     "text": [
      "d_real: 0.758481502532959\n",
      "d_fake: 0.5118030905723572\n",
      "save example\n",
      "Epoch : 68  Gen Loss : 4732.2861328125 Disc Loss : 0.1130058765411377\n"
     ]
    },
    {
     "data": {
      "application/vnd.jupyter.widget-view+json": {
       "model_id": "750d753de1804facbf31b99cd84a5e12",
       "version_major": 2,
       "version_minor": 0
      },
      "text/plain": [
       "  0%|          | 0/34 [00:00<?, ?it/s]"
      ]
     },
     "metadata": {},
     "output_type": "display_data"
    },
    {
     "name": "stdout",
     "output_type": "stream",
     "text": [
      "d_real: 0.6521049737930298\n",
      "d_fake: 0.5172221064567566\n",
      "Epoch : 69  Gen Loss : 4267.357421875 Disc Loss : 0.10010175406932831\n"
     ]
    },
    {
     "data": {
      "application/vnd.jupyter.widget-view+json": {
       "model_id": "28e17f65420c44e891797d6b072e61ea",
       "version_major": 2,
       "version_minor": 0
      },
      "text/plain": [
       "  0%|          | 0/34 [00:00<?, ?it/s]"
      ]
     },
     "metadata": {},
     "output_type": "display_data"
    },
    {
     "name": "stdout",
     "output_type": "stream",
     "text": [
      "d_real: 0.7113751173019409\n",
      "d_fake: 0.5211033821105957\n",
      "=> Saving checkpoint\n",
      "=> Saving checkpoint\n",
      "save example\n",
      "Epoch : 70  Gen Loss : 5203.40625 Disc Loss : 0.0558880940079689\n"
     ]
    },
    {
     "data": {
      "application/vnd.jupyter.widget-view+json": {
       "model_id": "3f4001b7065f4fa1aca70da00a8eb02f",
       "version_major": 2,
       "version_minor": 0
      },
      "text/plain": [
       "  0%|          | 0/34 [00:00<?, ?it/s]"
      ]
     },
     "metadata": {},
     "output_type": "display_data"
    },
    {
     "name": "stdout",
     "output_type": "stream",
     "text": [
      "d_real: 0.6947903037071228\n",
      "d_fake: 0.5237586498260498\n",
      "Epoch : 71  Gen Loss : 3212.933837890625 Disc Loss : 0.06599438190460205\n"
     ]
    },
    {
     "data": {
      "application/vnd.jupyter.widget-view+json": {
       "model_id": "6a64b92047c8462ab3bb67202f02f7bd",
       "version_major": 2,
       "version_minor": 0
      },
      "text/plain": [
       "  0%|          | 0/34 [00:00<?, ?it/s]"
      ]
     },
     "metadata": {},
     "output_type": "display_data"
    },
    {
     "name": "stdout",
     "output_type": "stream",
     "text": [
      "d_real: 0.7765645980834961\n",
      "d_fake: 0.5139904618263245\n",
      "save example\n",
      "Epoch : 72  Gen Loss : 4905.04541015625 Disc Loss : 0.1510770320892334\n"
     ]
    },
    {
     "data": {
      "application/vnd.jupyter.widget-view+json": {
       "model_id": "36157924d04847b48696688e3a2dae46",
       "version_major": 2,
       "version_minor": 0
      },
      "text/plain": [
       "  0%|          | 0/34 [00:00<?, ?it/s]"
      ]
     },
     "metadata": {},
     "output_type": "display_data"
    },
    {
     "name": "stdout",
     "output_type": "stream",
     "text": [
      "d_real: 0.7955854535102844\n",
      "d_fake: 0.5161843299865723\n",
      "Epoch : 73  Gen Loss : 4520.65380859375 Disc Loss : 0.2042582482099533\n"
     ]
    },
    {
     "data": {
      "application/vnd.jupyter.widget-view+json": {
       "model_id": "ce3c212ed0074b68bd92b8908866d8d2",
       "version_major": 2,
       "version_minor": 0
      },
      "text/plain": [
       "  0%|          | 0/34 [00:00<?, ?it/s]"
      ]
     },
     "metadata": {},
     "output_type": "display_data"
    },
    {
     "name": "stdout",
     "output_type": "stream",
     "text": [
      "d_real: 0.6667552590370178\n",
      "d_fake: 0.5218737721443176\n",
      "save example\n",
      "Epoch : 74  Gen Loss : 4185.0693359375 Disc Loss : 0.09111988544464111\n"
     ]
    },
    {
     "data": {
      "application/vnd.jupyter.widget-view+json": {
       "model_id": "f47d307eabf24d689298d1a71817b88a",
       "version_major": 2,
       "version_minor": 0
      },
      "text/plain": [
       "  0%|          | 0/34 [00:00<?, ?it/s]"
      ]
     },
     "metadata": {},
     "output_type": "display_data"
    },
    {
     "name": "stdout",
     "output_type": "stream",
     "text": [
      "d_real: 0.7097680568695068\n",
      "d_fake: 0.5136268138885498\n",
      "Epoch : 75  Gen Loss : 4349.68212890625 Disc Loss : 0.051938943564891815\n"
     ]
    },
    {
     "data": {
      "application/vnd.jupyter.widget-view+json": {
       "model_id": "fb2fb1200f2c4dfdb5c61b0ea0ced37f",
       "version_major": 2,
       "version_minor": 0
      },
      "text/plain": [
       "  0%|          | 0/34 [00:00<?, ?it/s]"
      ]
     },
     "metadata": {},
     "output_type": "display_data"
    },
    {
     "name": "stdout",
     "output_type": "stream",
     "text": [
      "d_real: 0.6699801087379456\n",
      "d_fake: 0.5264964699745178\n",
      "save example\n",
      "Epoch : 76  Gen Loss : 3450.843017578125 Disc Loss : 0.07685264199972153\n"
     ]
    },
    {
     "data": {
      "application/vnd.jupyter.widget-view+json": {
       "model_id": "0bdfa393f2c841a3a725844e751aac38",
       "version_major": 2,
       "version_minor": 0
      },
      "text/plain": [
       "  0%|          | 0/34 [00:00<?, ?it/s]"
      ]
     },
     "metadata": {},
     "output_type": "display_data"
    },
    {
     "name": "stdout",
     "output_type": "stream",
     "text": [
      "d_real: 0.6099199652671814\n",
      "d_fake: 0.5182011723518372\n",
      "Epoch : 77  Gen Loss : 4109.4365234375 Disc Loss : 0.19986648857593536\n"
     ]
    },
    {
     "data": {
      "application/vnd.jupyter.widget-view+json": {
       "model_id": "a1f9aa1488774e22a8af3c6a60c5512c",
       "version_major": 2,
       "version_minor": 0
      },
      "text/plain": [
       "  0%|          | 0/34 [00:00<?, ?it/s]"
      ]
     },
     "metadata": {},
     "output_type": "display_data"
    }
   ],
   "source": [
    "def main():\n",
    "    start = 21\n",
    "    netD = Discriminator(in_channels=3).to(config.DEVICE)\n",
    "    netG = Generator(in_channels=3).to(config.DEVICE)\n",
    "    optimizerD = torch.optim.Adam(netD.parameters(), lr = config.LEARNING_RATE, betas=(config.BETA1, 0.999))\n",
    "    optimizerG = torch.optim.Adam(netG.parameters(), lr = config.LEARNING_RATE, betas=(config.BETA1, 0.999))\n",
    "    dis_loss = nn.MSELoss()\n",
    "    gen_loss = nn.MSELoss()\n",
    "    \n",
    "    if config.LOAD_MODEL:\n",
    "        load_checkpoint(\n",
    "            config.CHECKPOINT_GEN, start-1, netG, optimizerG, config.LEARNING_RATE\n",
    "        )\n",
    "        load_checkpoint(\n",
    "            config.CHECKPOINT_DISC, start-1, netD, optimizerD, config.LEARNING_RATE\n",
    "        )\n",
    "    \n",
    "    train_dataset = Satellite2Map_Data(root=config.TRAIN_DIR)\n",
    "    train_dl = DataLoader(train_dataset, batch_size=config.BATCH_SIZE, shuffle=True, num_workers=config.NUM_WORKERS, pin_memory=True, drop_last=True)\n",
    "    val_dataset = Satellite2Map_Data(root=config.VAL_DIR)\n",
    "    val_dl = DataLoader(val_dataset, batch_size=config.BATCH_SIZE, shuffle=True, num_workers=config.NUM_WORKERS, pin_memory=True, drop_last=True)\n",
    "    \n",
    "    for epoch in range(start, config.NUM_EPOCHS):\n",
    "        train(\n",
    "            netG, netD,train_dl,optimizerG,optimizerD,gen_loss,dis_loss\n",
    "        )\n",
    "        if config.SAVE_MODEL and epoch % 10 == 0 and epoch > 0:\n",
    "            save_checkpoint(netG, optimizerG, epoch, Gen_loss[-1], Dis_loss[-1], filename= f\"./checkpoints/{epoch}_{config.CHECKPOINT_GEN}\")\n",
    "            save_checkpoint(netD, optimizerD, epoch, Gen_loss[-1], Dis_loss[-1], filename= f\"./checkpoints/{epoch}_{config.CHECKPOINT_DISC}\")\n",
    "        if epoch % 2 == 0 :\n",
    "            print(\"save example\")\n",
    "            try:\n",
    "                save_some_examples(netG,val_dl,epoch,folder=\"evaluation\")\n",
    "            except Exception as e:\n",
    "                print(f\"Something went wrong with epoch {epoch}: {e}\")\n",
    "\n",
    "        print(\"Epoch :\",epoch, \" Gen Loss :\",Gen_loss[-1], \"Disc Loss :\",Dis_loss[-1])\n",
    "    save_checkpoint(netG, optimizerG, \"final\", Gen_loss[-1], Dis_loss[-1], filename= f\"./checkpoints/{epoch}_{config.CHECKPOINT_GEN}\")\n",
    "    save_checkpoint(netD, optimizerD, \"final\", Gen_loss[-1], Dis_loss[-1], filename= f\"./checkpoints/{epoch}_{config.CHECKPOINT_DISC}\")\n",
    "\n",
    "\n",
    "if __name__ == '__main__':\n",
    "    main()"
   ]
  }
 ],
 "metadata": {
  "kernelspec": {
   "display_name": "Python 3",
   "language": "python",
   "name": "python3"
  },
  "language_info": {
   "codemirror_mode": {
    "name": "ipython",
    "version": 3
   },
   "file_extension": ".py",
   "mimetype": "text/x-python",
   "name": "python",
   "nbconvert_exporter": "python",
   "pygments_lexer": "ipython3",
   "version": "3.11.6"
  }
 },
 "nbformat": 4,
 "nbformat_minor": 2
}
