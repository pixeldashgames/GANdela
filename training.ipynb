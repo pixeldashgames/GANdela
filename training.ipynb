{
 "cells": [
  {
   "cell_type": "code",
   "execution_count": 8,
   "metadata": {},
   "outputs": [],
   "source": [
    "import torch\n",
    "# !pip install --upgrade albumentations\n",
    "from utils import save_checkpoint, load_checkpoint, save_some_examples\n",
    "import torch.nn as nn\n",
    "import torch.optim as optim\n",
    "import config\n",
    "from DataSet.dataset import Satellite2Map_Data\n",
    "from pix2pix.Generator import Generator\n",
    "from pix2pix.Discriminator import Discriminator\n",
    "from torch.utils.data import DataLoader\n",
    "from tqdm.notebook import tqdm\n",
    "\n",
    "\n",
    "torch.backends.cudnn.benchmark = True\n",
    "Gen_loss = []\n",
    "Dis_loss = []"
   ]
  },
  {
   "cell_type": "code",
   "execution_count": 2,
   "metadata": {},
   "outputs": [],
   "source": [
    "def train(netG: Generator, netD: Discriminator, train_dl, OptimizerG: optim.Adam, OptimizerD: optim.Adam, gen_loss, dis_loss, step_ahead = 0):\n",
    "    loop = tqdm(train_dl, dynamic_ncols=True)\n",
    "    for idx, (x, y) in enumerate(loop):\n",
    "        x = x.to(config.DEVICE).float()\n",
    "        y = y.to(config.DEVICE).float()\n",
    "        \n",
    "        # Train Discriminator\n",
    "        y_fake = netG(x).float()\n",
    "        d_real = netD(x, y)\n",
    "        d_real_loss = dis_loss(d_real, torch.ones_like(d_real))\n",
    "        d_fake = netD(x, y_fake.detach())\n",
    "        d_fake_loss = dis_loss(d_fake, torch.zeros_like(d_fake))\n",
    "        d_loss = (d_real_loss + d_fake_loss) / 2\n",
    "\n",
    "        netD.zero_grad()\n",
    "        Dis_loss.append(d_loss.item())\n",
    "        d_loss.backward()\n",
    "        OptimizerD.step()\n",
    "\n",
    "        # Train Generator\n",
    "        d_fake = netD(x, y_fake)\n",
    "        g_fake_loss = gen_loss(d_fake, torch.ones_like(d_fake))\n",
    "        loss = gen_loss(y_fake, y)  # * config.L1_LAMBDA\n",
    "        g_loss = (g_fake_loss + loss) / 2\n",
    "\n",
    "        Gen_loss.append(g_loss.item())\n",
    "        g_loss.backward()\n",
    "        OptimizerG.step()\n",
    "\n",
    "        for _ in range(step_ahead):\n",
    "            OptimizerG.zero_grad()\n",
    "            y_fake = netG(x).float()\n",
    "            d_fake = netD(x, y_fake)\n",
    "            g_fake_loss = gen_loss(d_fake, torch.ones_like(d_fake))\n",
    "            loss = gen_loss(y_fake, y)  # * config.L1_LAMBDA\n",
    "\n",
    "            g_loss = (g_fake_loss + loss) / 2\n",
    "            Gen_loss.append(g_loss.item())\n",
    "            g_loss.backward()\n",
    "            OptimizerG.step()\n",
    "\n",
    "        if idx % 10 == 0:\n",
    "            loop.set_postfix(\n",
    "                d_real=torch.sigmoid(d_real).mean().item(),\n",
    "                d_fake=torch.sigmoid(d_fake).mean().item(),\n",
    "            )\n",
    "    print(\"d_real: \" + str(torch.sigmoid(d_real).mean().item()))\n",
    "    print(\"d_fake: \" + str(torch.sigmoid(d_fake).mean().item()))\n",
    "\n",
    "def validate(netG, netD, val_dl, gen_loss, dis_loss, \n",
    "            scheduler_G, scheduler_D):\n",
    "    # Calculate validation loss\n",
    "        val_gen_loss = 0.0\n",
    "        val_dis_loss = 0.0\n",
    "        with torch.no_grad():\n",
    "            for val_x, val_y in val_dl:\n",
    "                val_x = val_x.to(config.DEVICE).float()\n",
    "                val_y = val_y.to(config.DEVICE).float()\n",
    "\n",
    "                # Calculate validation losses (similar to training loop)\n",
    "                val_y_fake = netG(val_x).float()\n",
    "                val_d_real = netD(val_x, val_y)\n",
    "                val_d_fake = netD(val_x, val_y_fake)\n",
    "\n",
    "                val_d_real_loss = dis_loss(val_d_real, torch.ones_like(val_d_real))\n",
    "                val_d_fake_loss = dis_loss(val_d_fake, torch.zeros_like(val_d_fake))\n",
    "                val_d_loss = (val_d_real_loss + val_d_fake_loss) / 2\n",
    "\n",
    "                val_g_fake_loss = gen_loss(val_d_fake, torch.ones_like(val_d_fake))\n",
    "                val_loss = gen_loss(val_y_fake, val_y)\n",
    "                val_g_loss = (val_g_fake_loss + val_loss) / 2\n",
    "\n",
    "                val_gen_loss += val_g_loss.item()\n",
    "                val_dis_loss += val_d_loss.item()\n",
    "\n",
    "            val_gen_loss /= len(val_dl)\n",
    "            val_dis_loss /= len(val_dl)\n",
    "\n",
    "        # Update schedulers based on validation loss\n",
    "        scheduler_G.step(val_gen_loss)\n",
    "        print(\"Current LR for Generator:\", scheduler_G.get_last_lr()[0]) \n",
    "        \n",
    "        scheduler_D.step(val_dis_loss)\n",
    "        print(\"Current LR for Discriminator:\", scheduler_D.get_last_lr()[0]) "
   ]
  },
  {
   "cell_type": "code",
   "execution_count": null,
   "metadata": {},
   "outputs": [],
   "source": [
    "def main():\n",
    "    start = 231\n",
    "    rgb_on = False\n",
    "    channels = 3 if rgb_on else 1\n",
    "\n",
    "    netD = Discriminator(in_channels=channels).to(config.DEVICE)\n",
    "    netG = Generator(in_channels=channels).to(config.DEVICE)\n",
    "    optimizerD = torch.optim.Adam(\n",
    "        netD.parameters(), lr=config.LEARNING_RATE_DISC, betas=(config.BETA1, 0.999)\n",
    "    )\n",
    "    optimizerG = torch.optim.Adam(\n",
    "        netG.parameters(), lr=config.LEARNING_RATE_GEN, betas=(config.BETA1, 0.999)\n",
    "    )\n",
    "    gen_loss = nn.MSELoss()\n",
    "    dis_loss = nn.MSELoss()\n",
    "\n",
    "    \n",
    "    if config.LOAD_MODEL:\n",
    "        load_checkpoint(\n",
    "            config.CHECKPOINT_GEN, start-1, netG, optimizerG, config.LEARNING_RATE_GEN\n",
    "        )\n",
    "        load_checkpoint(\n",
    "            config.CHECKPOINT_DISC, start-1, netD, optimizerD, config.LEARNING_RATE_DISC\n",
    "        )\n",
    "    \n",
    "    train_dataset = Satellite2Map_Data(root=config.TRAIN_DIR, rgb_on=rgb_on)\n",
    "    train_dl = DataLoader(train_dataset, batch_size=config.BATCH_SIZE, shuffle=True, num_workers=config.NUM_WORKERS, pin_memory=True, drop_last=True)\n",
    "    val_dataset = Satellite2Map_Data(root=config.VAL_DIR, rgb_on=rgb_on)\n",
    "    val_dl = DataLoader(val_dataset, batch_size=config.BATCH_SIZE, shuffle=True, num_workers=config.NUM_WORKERS, pin_memory=True, drop_last=True)\n",
    "    \n",
    "    for epoch in range(start, config.NUM_EPOCHS):\n",
    "        train(\n",
    "            netG, netD,train_dl,optimizerG,optimizerD,gen_loss,dis_loss, step_ahead=2\n",
    "        )\n",
    "        if config.SAVE_MODEL and epoch % 10 == 0 and epoch > 0:\n",
    "            save_checkpoint(netG, optimizerG, epoch, Gen_loss[-1], Dis_loss[-1], filename= f\"./checkpoints/{epoch}_{config.CHECKPOINT_GEN}\")\n",
    "            save_checkpoint(netD, optimizerD, epoch, Gen_loss[-1], Dis_loss[-1], filename= f\"./checkpoints/{epoch}_{config.CHECKPOINT_DISC}\")\n",
    "        if epoch % 10 == 0 :\n",
    "            print(\"save example\")\n",
    "            try:\n",
    "                save_some_examples(netG,val_dl,epoch,folder=\"evaluation\")\n",
    "            except Exception as e:\n",
    "                print(f\"Something went wrong saving with epoch {epoch}: {e}\")\n",
    "\n",
    "        print(\"Epoch :\",epoch, \" Gen Loss :\",Gen_loss[-1], \"Disc Loss :\",Dis_loss[-1])\n",
    "    save_checkpoint(netG, optimizerG, \"final\", Gen_loss[-1], Dis_loss[-1], filename= f\"./checkpoints/{epoch}_{config.CHECKPOINT_GEN}\")\n",
    "    save_checkpoint(netD, optimizerD, \"final\", Gen_loss[-1], Dis_loss[-1], filename= f\"./checkpoints/{epoch}_{config.CHECKPOINT_DISC}\")\n",
    "    print(\"save example\")\n",
    "    try:\n",
    "        save_some_examples(netG,val_dl,config.NUM_EPOCHS,folder=\"evaluation\")\n",
    "    except Exception as e:\n",
    "        print(f\"Something went wrong with the last epoch\")\n",
    "\n",
    "\n",
    "if __name__ == '__main__':\n",
    "    main()"
   ]
  },
  {
   "cell_type": "code",
   "execution_count": 4,
   "metadata": {},
   "outputs": [],
   "source": [
    "import os\n",
    "from DataSet.dataset import Satellite2Map_Data\n",
    "from torch.utils.data import DataLoader\n",
    "import config\n",
    "\n",
    "def get_folder_names(folder_path):\n",
    "  folder_names = []\n",
    "  for item in os.listdir(folder_path):\n",
    "    item_path = os.path.join(folder_path, item)\n",
    "    if os.path.isdir(item_path):\n",
    "      folder_names.append(item)\n",
    "  return folder_names\n",
    "\n",
    "folder_path = \"./versions (Gen-Disc)\"\n",
    "folder_names = get_folder_names(folder_path)\n",
    "\n",
    "val_dataset = Satellite2Map_Data(root=config.VAL_DIR, rgb_on=False)\n",
    "val_dl = DataLoader(val_dataset, batch_size=config.BATCH_SIZE, shuffle=True, num_workers=config.NUM_WORKERS, pin_memory=True, drop_last=True)\n",
    "\n",
    "tests = []\n",
    "\n",
    "for i, batch in enumerate(val_dl):\n",
    "    if i >= 1:  # Stop after collecting 1 batch\n",
    "        break\n",
    "    tests = batch"
   ]
  },
  {
   "cell_type": "code",
   "execution_count": 7,
   "metadata": {},
   "outputs": [
    {
     "name": "stdout",
     "output_type": "stream",
     "text": [
      "L1 with MSE with a rmse of 0.07165253162384033\n",
      "L1 with L1 with a rmse of 0.10108126699924469\n",
      "MSE with L1 with a rmse of 0.10357613116502762\n",
      "MSE with MSE with a rmse of 0.11847350746393204\n",
      "L1 with BCEwithLogits with a rmse of 0.14302858710289001\n",
      "MSE with BCEwithLogits with a rmse of 0.2506081461906433\n"
     ]
    }
   ],
   "source": [
    "\n",
    "from utils import save_matrix\n",
    "import config\n",
    "import numpy as np\n",
    "import torch\n",
    "from pix2pix.Generator import Generator\n",
    "\n",
    "\n",
    "def load_model(model,folder_path, lr):\n",
    "  checkpoint = torch.load(\n",
    "    f\"{folder_path}/399_{config.CHECKPOINT_GEN}\", map_location=config.DEVICE\n",
    "  )\n",
    "  model.load_state_dict(checkpoint[\"state_dict\"])\n",
    "\n",
    "\n",
    "def calculate_rmse(matrix1, matrix2):\n",
    "\n",
    "  # Ensure matrices have the same shape\n",
    "  if matrix1.shape != matrix2.shape:\n",
    "    raise ValueError(\"Matrices must have the same shape.\")\n",
    "\n",
    "  squared_differences = (matrix1 - matrix2) ** 2\n",
    "  mean_squared_error = np.mean(squared_differences)\n",
    "  rmse = np.sqrt(mean_squared_error)\n",
    "\n",
    "  return rmse\n",
    "\n",
    "import matplotlib.pyplot as plt\n",
    "model_error = []\n",
    "for folder in folder_names:\n",
    "    netG = Generator(in_channels=1).to(config.DEVICE)\n",
    "    \n",
    "    load_model(netG,f\"{folder_path}/{folder}\",config.LEARNING_RATE_GEN)\n",
    "\n",
    "    errors = []\n",
    "\n",
    "    for i in range(len(tests[0])):\n",
    "      x, y = tests[0][i], tests[1][i]\n",
    "      x, y = x.to(config.DEVICE).float().unsqueeze(1), y.to(config.DEVICE).float().unsqueeze(1)\n",
    "      netG.eval()\n",
    "      with torch.no_grad():\n",
    "          y_fake = netG(x)\n",
    "      y_fake = y_fake.cpu().detach().numpy().squeeze()\n",
    "      y = y.cpu().detach().numpy().squeeze()\n",
    "      errors.append(calculate_rmse(y,y_fake))\n",
    "    model_error.append(np.mean(errors))\n",
    "\n",
    "indexed_list = list(enumerate(model_error))\n",
    "sorted_list = sorted(indexed_list, key= lambda x: x[1])\n",
    "\n",
    "for tuple in sorted_list:\n",
    "  print(f\"{folder_names[tuple[0]]} with a rmse of {tuple[1]}\")\n"
   ]
  },
  {
   "cell_type": "code",
   "execution_count": 9,
   "metadata": {},
   "outputs": [
    {
     "data": {
      "application/vnd.jupyter.widget-view+json": {
       "model_id": "6a073f06e2cb4ed9881dcb4c98224e1b",
       "version_major": 2,
       "version_minor": 0
      },
      "text/plain": [
       "  0%|          | 0/51 [00:00<?, ?it/s]"
      ]
     },
     "metadata": {},
     "output_type": "display_data"
    },
    {
     "name": "stdout",
     "output_type": "stream",
     "text": [
      "d_real: 0.6235193014144897\n",
      "d_fake: 0.6157655119895935\n",
      "Epoch : 51  Gen Loss : 0.47037339210510254 Disc Loss : 0.25937414169311523\n"
     ]
    },
    {
     "data": {
      "application/vnd.jupyter.widget-view+json": {
       "model_id": "3137601f1f1e4e9b88b08520395f580e",
       "version_major": 2,
       "version_minor": 0
      },
      "text/plain": [
       "  0%|          | 0/51 [00:00<?, ?it/s]"
      ]
     },
     "metadata": {},
     "output_type": "display_data"
    },
    {
     "name": "stdout",
     "output_type": "stream",
     "text": [
      "d_real: 0.6289966106414795\n",
      "d_fake: 0.6244072318077087\n",
      "Epoch : 52  Gen Loss : 0.4208671450614929 Disc Loss : 0.2508722245693207\n"
     ]
    },
    {
     "data": {
      "application/vnd.jupyter.widget-view+json": {
       "model_id": "377023d9db874fb2a9d71a3d551b3e0d",
       "version_major": 2,
       "version_minor": 0
      },
      "text/plain": [
       "  0%|          | 0/51 [00:00<?, ?it/s]"
      ]
     },
     "metadata": {},
     "output_type": "display_data"
    },
    {
     "name": "stdout",
     "output_type": "stream",
     "text": [
      "d_real: 0.6263059377670288\n",
      "d_fake: 0.6230446696281433\n",
      "Epoch : 53  Gen Loss : 0.48991918563842773 Disc Loss : 0.23657044768333435\n"
     ]
    },
    {
     "data": {
      "application/vnd.jupyter.widget-view+json": {
       "model_id": "44d2c640935c492eb6ebc71025118229",
       "version_major": 2,
       "version_minor": 0
      },
      "text/plain": [
       "  0%|          | 0/51 [00:00<?, ?it/s]"
      ]
     },
     "metadata": {},
     "output_type": "display_data"
    },
    {
     "name": "stdout",
     "output_type": "stream",
     "text": [
      "d_real: 0.6226921081542969\n",
      "d_fake: 0.6250010132789612\n",
      "Epoch : 54  Gen Loss : 0.44930577278137207 Disc Loss : 0.2575656771659851\n"
     ]
    },
    {
     "data": {
      "application/vnd.jupyter.widget-view+json": {
       "model_id": "fd35beefa5e9439b93907d93687d4af8",
       "version_major": 2,
       "version_minor": 0
      },
      "text/plain": [
       "  0%|          | 0/51 [00:00<?, ?it/s]"
      ]
     },
     "metadata": {},
     "output_type": "display_data"
    },
    {
     "name": "stdout",
     "output_type": "stream",
     "text": [
      "d_real: 0.6168069839477539\n",
      "d_fake: 0.6128154397010803\n",
      "Epoch : 55  Gen Loss : 0.4556320011615753 Disc Loss : 0.24820345640182495\n"
     ]
    },
    {
     "data": {
      "application/vnd.jupyter.widget-view+json": {
       "model_id": "f6f64e6c27bc4ae19152b1f2cfe7fefa",
       "version_major": 2,
       "version_minor": 0
      },
      "text/plain": [
       "  0%|          | 0/51 [00:00<?, ?it/s]"
      ]
     },
     "metadata": {},
     "output_type": "display_data"
    },
    {
     "name": "stdout",
     "output_type": "stream",
     "text": [
      "d_real: 0.6233754754066467\n",
      "d_fake: 0.6158583760261536\n",
      "Epoch : 56  Gen Loss : 0.47338977456092834 Disc Loss : 0.2506832480430603\n"
     ]
    },
    {
     "data": {
      "application/vnd.jupyter.widget-view+json": {
       "model_id": "544e041b94ed41eab147786f8fd90738",
       "version_major": 2,
       "version_minor": 0
      },
      "text/plain": [
       "  0%|          | 0/51 [00:00<?, ?it/s]"
      ]
     },
     "metadata": {},
     "output_type": "display_data"
    },
    {
     "name": "stdout",
     "output_type": "stream",
     "text": [
      "d_real: 0.6157385110855103\n",
      "d_fake: 0.6082164645195007\n",
      "Epoch : 57  Gen Loss : 0.5085278749465942 Disc Loss : 0.24061518907546997\n"
     ]
    },
    {
     "data": {
      "application/vnd.jupyter.widget-view+json": {
       "model_id": "3d5e90a8c91449feb58c75049ac7f951",
       "version_major": 2,
       "version_minor": 0
      },
      "text/plain": [
       "  0%|          | 0/51 [00:00<?, ?it/s]"
      ]
     },
     "metadata": {},
     "output_type": "display_data"
    },
    {
     "name": "stdout",
     "output_type": "stream",
     "text": [
      "d_real: 0.637104868888855\n",
      "d_fake: 0.6235648989677429\n",
      "Epoch : 58  Gen Loss : 0.46954989433288574 Disc Loss : 0.24667340517044067\n"
     ]
    },
    {
     "data": {
      "application/vnd.jupyter.widget-view+json": {
       "model_id": "a5b1805952214880891facfd553e47f6",
       "version_major": 2,
       "version_minor": 0
      },
      "text/plain": [
       "  0%|          | 0/51 [00:00<?, ?it/s]"
      ]
     },
     "metadata": {},
     "output_type": "display_data"
    },
    {
     "name": "stdout",
     "output_type": "stream",
     "text": [
      "d_real: 0.6227491497993469\n",
      "d_fake: 0.6086909174919128\n",
      "Epoch : 59  Gen Loss : 0.4928242862224579 Disc Loss : 0.24077382683753967\n"
     ]
    },
    {
     "data": {
      "application/vnd.jupyter.widget-view+json": {
       "model_id": "98ce7059151a4085bc26d3741940fc80",
       "version_major": 2,
       "version_minor": 0
      },
      "text/plain": [
       "  0%|          | 0/51 [00:00<?, ?it/s]"
      ]
     },
     "metadata": {},
     "output_type": "display_data"
    },
    {
     "name": "stdout",
     "output_type": "stream",
     "text": [
      "d_real: 0.6272919178009033\n",
      "d_fake: 0.5974645018577576\n",
      "=> Saving checkpoint\n",
      "=> Saving checkpoint\n",
      "save example\n",
      "Epoch : 60  Gen Loss : 0.5482182502746582 Disc Loss : 0.22387485206127167\n"
     ]
    },
    {
     "data": {
      "application/vnd.jupyter.widget-view+json": {
       "model_id": "5e2d455e872144ddb8afac87a5901016",
       "version_major": 2,
       "version_minor": 0
      },
      "text/plain": [
       "  0%|          | 0/51 [00:00<?, ?it/s]"
      ]
     },
     "metadata": {},
     "output_type": "display_data"
    },
    {
     "name": "stdout",
     "output_type": "stream",
     "text": [
      "d_real: 0.6452912092208862\n",
      "d_fake: 0.6154126524925232\n",
      "Epoch : 61  Gen Loss : 0.49925050139427185 Disc Loss : 0.23716309666633606\n"
     ]
    },
    {
     "data": {
      "application/vnd.jupyter.widget-view+json": {
       "model_id": "8fed735711cc40e7b0bb7e4c471387c4",
       "version_major": 2,
       "version_minor": 0
      },
      "text/plain": [
       "  0%|          | 0/51 [00:00<?, ?it/s]"
      ]
     },
     "metadata": {},
     "output_type": "display_data"
    },
    {
     "name": "stdout",
     "output_type": "stream",
     "text": [
      "d_real: 0.6130025386810303\n",
      "d_fake: 0.6062058806419373\n",
      "Epoch : 62  Gen Loss : 0.5319962501525879 Disc Loss : 0.2579275071620941\n"
     ]
    },
    {
     "data": {
      "application/vnd.jupyter.widget-view+json": {
       "model_id": "1cc20f4a08fb48d0bf6b30c505dd47a8",
       "version_major": 2,
       "version_minor": 0
      },
      "text/plain": [
       "  0%|          | 0/51 [00:00<?, ?it/s]"
      ]
     },
     "metadata": {},
     "output_type": "display_data"
    },
    {
     "name": "stdout",
     "output_type": "stream",
     "text": [
      "d_real: 0.6184369921684265\n",
      "d_fake: 0.6079829335212708\n",
      "Epoch : 63  Gen Loss : 0.5026132464408875 Disc Loss : 0.23722630739212036\n"
     ]
    },
    {
     "data": {
      "application/vnd.jupyter.widget-view+json": {
       "model_id": "f3ea53dc92ef410eb5268edbcae095d5",
       "version_major": 2,
       "version_minor": 0
      },
      "text/plain": [
       "  0%|          | 0/51 [00:00<?, ?it/s]"
      ]
     },
     "metadata": {},
     "output_type": "display_data"
    },
    {
     "name": "stdout",
     "output_type": "stream",
     "text": [
      "d_real: 0.6414462924003601\n",
      "d_fake: 0.6283531785011292\n",
      "Epoch : 64  Gen Loss : 0.44599205255508423 Disc Loss : 0.22865648567676544\n"
     ]
    },
    {
     "data": {
      "application/vnd.jupyter.widget-view+json": {
       "model_id": "7077e1f964324946b33b4bf3d25900bf",
       "version_major": 2,
       "version_minor": 0
      },
      "text/plain": [
       "  0%|          | 0/51 [00:00<?, ?it/s]"
      ]
     },
     "metadata": {},
     "output_type": "display_data"
    },
    {
     "name": "stdout",
     "output_type": "stream",
     "text": [
      "d_real: 0.6378320455551147\n",
      "d_fake: 0.6331707835197449\n",
      "Epoch : 65  Gen Loss : 0.4804353415966034 Disc Loss : 0.2106930911540985\n"
     ]
    },
    {
     "data": {
      "application/vnd.jupyter.widget-view+json": {
       "model_id": "f23f4729abc24ec19dc17208840ab072",
       "version_major": 2,
       "version_minor": 0
      },
      "text/plain": [
       "  0%|          | 0/51 [00:00<?, ?it/s]"
      ]
     },
     "metadata": {},
     "output_type": "display_data"
    },
    {
     "name": "stdout",
     "output_type": "stream",
     "text": [
      "d_real: 0.6393111348152161\n",
      "d_fake: 0.6200671195983887\n",
      "Epoch : 66  Gen Loss : 0.4398031234741211 Disc Loss : 0.23644328117370605\n"
     ]
    },
    {
     "data": {
      "application/vnd.jupyter.widget-view+json": {
       "model_id": "ead03825de694c17bde0575438236d6a",
       "version_major": 2,
       "version_minor": 0
      },
      "text/plain": [
       "  0%|          | 0/51 [00:00<?, ?it/s]"
      ]
     },
     "metadata": {},
     "output_type": "display_data"
    },
    {
     "name": "stdout",
     "output_type": "stream",
     "text": [
      "d_real: 0.6429591178894043\n",
      "d_fake: 0.609325110912323\n",
      "Epoch : 67  Gen Loss : 0.4490903317928314 Disc Loss : 0.249503493309021\n"
     ]
    },
    {
     "data": {
      "application/vnd.jupyter.widget-view+json": {
       "model_id": "d9d63f1808b945be913284ee1262add7",
       "version_major": 2,
       "version_minor": 0
      },
      "text/plain": [
       "  0%|          | 0/51 [00:00<?, ?it/s]"
      ]
     },
     "metadata": {},
     "output_type": "display_data"
    },
    {
     "name": "stdout",
     "output_type": "stream",
     "text": [
      "d_real: 0.6566177606582642\n",
      "d_fake: 0.6123566031455994\n",
      "Epoch : 68  Gen Loss : 0.49331632256507874 Disc Loss : 0.19680723547935486\n"
     ]
    },
    {
     "data": {
      "application/vnd.jupyter.widget-view+json": {
       "model_id": "64038067c9874d8aaedd656e3623c9ae",
       "version_major": 2,
       "version_minor": 0
      },
      "text/plain": [
       "  0%|          | 0/51 [00:00<?, ?it/s]"
      ]
     },
     "metadata": {},
     "output_type": "display_data"
    },
    {
     "name": "stdout",
     "output_type": "stream",
     "text": [
      "d_real: 0.6400961875915527\n",
      "d_fake: 0.5671025514602661\n",
      "Epoch : 69  Gen Loss : 0.5980520844459534 Disc Loss : 0.19901831448078156\n"
     ]
    },
    {
     "data": {
      "application/vnd.jupyter.widget-view+json": {
       "model_id": "3e197a514fae4822baad2ba3a189bd96",
       "version_major": 2,
       "version_minor": 0
      },
      "text/plain": [
       "  0%|          | 0/51 [00:00<?, ?it/s]"
      ]
     },
     "metadata": {},
     "output_type": "display_data"
    },
    {
     "name": "stdout",
     "output_type": "stream",
     "text": [
      "d_real: 0.6303287744522095\n",
      "d_fake: 0.596813976764679\n",
      "=> Saving checkpoint\n",
      "=> Saving checkpoint\n",
      "save example\n",
      "Epoch : 70  Gen Loss : 0.5263544321060181 Disc Loss : 0.24657008051872253\n"
     ]
    },
    {
     "data": {
      "application/vnd.jupyter.widget-view+json": {
       "model_id": "133d656e77454ccda6960c9b4660a97c",
       "version_major": 2,
       "version_minor": 0
      },
      "text/plain": [
       "  0%|          | 0/51 [00:00<?, ?it/s]"
      ]
     },
     "metadata": {},
     "output_type": "display_data"
    },
    {
     "name": "stdout",
     "output_type": "stream",
     "text": [
      "d_real: 0.6452862620353699\n",
      "d_fake: 0.5595701932907104\n",
      "Epoch : 71  Gen Loss : 0.5754839777946472 Disc Loss : 0.21508651971817017\n"
     ]
    },
    {
     "data": {
      "application/vnd.jupyter.widget-view+json": {
       "model_id": "436950dbb9904f2cafbd6ac4348fc35d",
       "version_major": 2,
       "version_minor": 0
      },
      "text/plain": [
       "  0%|          | 0/51 [00:00<?, ?it/s]"
      ]
     },
     "metadata": {},
     "output_type": "display_data"
    },
    {
     "name": "stdout",
     "output_type": "stream",
     "text": [
      "d_real: 0.6176212430000305\n",
      "d_fake: 0.6079372763633728\n",
      "Epoch : 72  Gen Loss : 0.4803730845451355 Disc Loss : 0.23595482110977173\n"
     ]
    },
    {
     "data": {
      "application/vnd.jupyter.widget-view+json": {
       "model_id": "b565d3de3e3d4b509c670dedb019d592",
       "version_major": 2,
       "version_minor": 0
      },
      "text/plain": [
       "  0%|          | 0/51 [00:00<?, ?it/s]"
      ]
     },
     "metadata": {},
     "output_type": "display_data"
    },
    {
     "name": "stdout",
     "output_type": "stream",
     "text": [
      "d_real: 0.6390725374221802\n",
      "d_fake: 0.5875298976898193\n",
      "Epoch : 73  Gen Loss : 0.5264860987663269 Disc Loss : 0.13207542896270752\n"
     ]
    },
    {
     "data": {
      "application/vnd.jupyter.widget-view+json": {
       "model_id": "53b782f934f24b16a28d59db43804283",
       "version_major": 2,
       "version_minor": 0
      },
      "text/plain": [
       "  0%|          | 0/51 [00:00<?, ?it/s]"
      ]
     },
     "metadata": {},
     "output_type": "display_data"
    },
    {
     "name": "stdout",
     "output_type": "stream",
     "text": [
      "d_real: 0.6111326217651367\n",
      "d_fake: 0.5400695204734802\n",
      "Epoch : 74  Gen Loss : 0.6034974455833435 Disc Loss : 0.23688337206840515\n"
     ]
    },
    {
     "data": {
      "application/vnd.jupyter.widget-view+json": {
       "model_id": "c50d9087b7c6468c837d0e984d11fdc4",
       "version_major": 2,
       "version_minor": 0
      },
      "text/plain": [
       "  0%|          | 0/51 [00:00<?, ?it/s]"
      ]
     },
     "metadata": {},
     "output_type": "display_data"
    },
    {
     "name": "stdout",
     "output_type": "stream",
     "text": [
      "d_real: 0.6313586235046387\n",
      "d_fake: 0.6393184065818787\n",
      "Epoch : 75  Gen Loss : 0.46379154920578003 Disc Loss : 0.14888378977775574\n"
     ]
    },
    {
     "data": {
      "application/vnd.jupyter.widget-view+json": {
       "model_id": "e342d7de5f144302b492587164f50c23",
       "version_major": 2,
       "version_minor": 0
      },
      "text/plain": [
       "  0%|          | 0/51 [00:00<?, ?it/s]"
      ]
     },
     "metadata": {},
     "output_type": "display_data"
    },
    {
     "name": "stdout",
     "output_type": "stream",
     "text": [
      "d_real: 0.6588175296783447\n",
      "d_fake: 0.6293607354164124\n",
      "Epoch : 76  Gen Loss : 0.4401484727859497 Disc Loss : 0.1173267811536789\n"
     ]
    },
    {
     "data": {
      "application/vnd.jupyter.widget-view+json": {
       "model_id": "e4a93189972b49afb9e2db85d8579adc",
       "version_major": 2,
       "version_minor": 0
      },
      "text/plain": [
       "  0%|          | 0/51 [00:00<?, ?it/s]"
      ]
     },
     "metadata": {},
     "output_type": "display_data"
    },
    {
     "name": "stdout",
     "output_type": "stream",
     "text": [
      "d_real: 0.649379551410675\n",
      "d_fake: 0.5854743719100952\n",
      "Epoch : 77  Gen Loss : 0.5180613994598389 Disc Loss : 0.12502089142799377\n"
     ]
    },
    {
     "data": {
      "application/vnd.jupyter.widget-view+json": {
       "model_id": "b01228d6e65b4e7a87e8f0339bc7d5e2",
       "version_major": 2,
       "version_minor": 0
      },
      "text/plain": [
       "  0%|          | 0/51 [00:00<?, ?it/s]"
      ]
     },
     "metadata": {},
     "output_type": "display_data"
    },
    {
     "name": "stdout",
     "output_type": "stream",
     "text": [
      "d_real: 0.6137650609016418\n",
      "d_fake: 0.6475090980529785\n",
      "Epoch : 78  Gen Loss : 0.37969714403152466 Disc Loss : 0.18967154622077942\n"
     ]
    },
    {
     "data": {
      "application/vnd.jupyter.widget-view+json": {
       "model_id": "788c9d2c00f640be8c848b0fdefa042c",
       "version_major": 2,
       "version_minor": 0
      },
      "text/plain": [
       "  0%|          | 0/51 [00:00<?, ?it/s]"
      ]
     },
     "metadata": {},
     "output_type": "display_data"
    },
    {
     "name": "stdout",
     "output_type": "stream",
     "text": [
      "d_real: 0.6649156212806702\n",
      "d_fake: 0.5671074390411377\n",
      "Epoch : 79  Gen Loss : 0.561975359916687 Disc Loss : 0.06700417399406433\n"
     ]
    },
    {
     "data": {
      "application/vnd.jupyter.widget-view+json": {
       "model_id": "fc63d6a7c6944c94be1925a89fd2bec9",
       "version_major": 2,
       "version_minor": 0
      },
      "text/plain": [
       "  0%|          | 0/51 [00:00<?, ?it/s]"
      ]
     },
     "metadata": {},
     "output_type": "display_data"
    },
    {
     "name": "stdout",
     "output_type": "stream",
     "text": [
      "d_real: 0.6487431526184082\n",
      "d_fake: 0.61783367395401\n",
      "=> Saving checkpoint\n",
      "=> Saving checkpoint\n",
      "save example\n",
      "Epoch : 80  Gen Loss : 0.43846842646598816 Disc Loss : 0.20701012015342712\n"
     ]
    },
    {
     "data": {
      "application/vnd.jupyter.widget-view+json": {
       "model_id": "a246a39eec4d489b801e646d24f01b68",
       "version_major": 2,
       "version_minor": 0
      },
      "text/plain": [
       "  0%|          | 0/51 [00:00<?, ?it/s]"
      ]
     },
     "metadata": {},
     "output_type": "display_data"
    },
    {
     "name": "stdout",
     "output_type": "stream",
     "text": [
      "d_real: 0.6247807741165161\n",
      "d_fake: 0.5593615174293518\n",
      "Epoch : 81  Gen Loss : 0.5498307943344116 Disc Loss : 0.24747173488140106\n"
     ]
    },
    {
     "data": {
      "application/vnd.jupyter.widget-view+json": {
       "model_id": "9afe6f4c821d4a78ae7d05380ebf7852",
       "version_major": 2,
       "version_minor": 0
      },
      "text/plain": [
       "  0%|          | 0/51 [00:00<?, ?it/s]"
      ]
     },
     "metadata": {},
     "output_type": "display_data"
    },
    {
     "name": "stdout",
     "output_type": "stream",
     "text": [
      "d_real: 0.6036369800567627\n",
      "d_fake: 0.5855877995491028\n",
      "Epoch : 82  Gen Loss : 0.515152096748352 Disc Loss : 0.37225961685180664\n"
     ]
    },
    {
     "data": {
      "application/vnd.jupyter.widget-view+json": {
       "model_id": "ded670377b1d4f999d2f32c160f671b0",
       "version_major": 2,
       "version_minor": 0
      },
      "text/plain": [
       "  0%|          | 0/51 [00:00<?, ?it/s]"
      ]
     },
     "metadata": {},
     "output_type": "display_data"
    },
    {
     "name": "stdout",
     "output_type": "stream",
     "text": [
      "d_real: 0.6222595572471619\n",
      "d_fake: 0.5701043009757996\n",
      "Epoch : 83  Gen Loss : 0.5349119901657104 Disc Loss : 0.24051982164382935\n"
     ]
    },
    {
     "data": {
      "application/vnd.jupyter.widget-view+json": {
       "model_id": "d58946584eb240d0ac9ce26da8901a6c",
       "version_major": 2,
       "version_minor": 0
      },
      "text/plain": [
       "  0%|          | 0/51 [00:00<?, ?it/s]"
      ]
     },
     "metadata": {},
     "output_type": "display_data"
    },
    {
     "name": "stdout",
     "output_type": "stream",
     "text": [
      "d_real: 0.663594663143158\n",
      "d_fake: 0.5518708825111389\n",
      "Epoch : 84  Gen Loss : 0.5675978660583496 Disc Loss : 0.07537961006164551\n"
     ]
    },
    {
     "data": {
      "application/vnd.jupyter.widget-view+json": {
       "model_id": "b361c6a72df44f5babbfa9420a3f1bb2",
       "version_major": 2,
       "version_minor": 0
      },
      "text/plain": [
       "  0%|          | 0/51 [00:00<?, ?it/s]"
      ]
     },
     "metadata": {},
     "output_type": "display_data"
    },
    {
     "name": "stdout",
     "output_type": "stream",
     "text": [
      "d_real: 0.6126070022583008\n",
      "d_fake: 0.5804324746131897\n",
      "Epoch : 85  Gen Loss : 0.5203972458839417 Disc Loss : 0.24057844281196594\n"
     ]
    },
    {
     "data": {
      "application/vnd.jupyter.widget-view+json": {
       "model_id": "e7e71ef2145649fd84aa6c624afdb90f",
       "version_major": 2,
       "version_minor": 0
      },
      "text/plain": [
       "  0%|          | 0/51 [00:00<?, ?it/s]"
      ]
     },
     "metadata": {},
     "output_type": "display_data"
    },
    {
     "name": "stdout",
     "output_type": "stream",
     "text": [
      "d_real: 0.6663045883178711\n",
      "d_fake: 0.5884319543838501\n",
      "Epoch : 86  Gen Loss : 0.47993576526641846 Disc Loss : 0.2278970181941986\n"
     ]
    },
    {
     "data": {
      "application/vnd.jupyter.widget-view+json": {
       "model_id": "6769d345db5d41748c003766b2c643f5",
       "version_major": 2,
       "version_minor": 0
      },
      "text/plain": [
       "  0%|          | 0/51 [00:00<?, ?it/s]"
      ]
     },
     "metadata": {},
     "output_type": "display_data"
    },
    {
     "name": "stdout",
     "output_type": "stream",
     "text": [
      "d_real: 0.5867527723312378\n",
      "d_fake: 0.6238021850585938\n",
      "Epoch : 87  Gen Loss : 0.42462021112442017 Disc Loss : 0.26057472825050354\n"
     ]
    },
    {
     "data": {
      "application/vnd.jupyter.widget-view+json": {
       "model_id": "b82046eb7b704a079696e4445104b7be",
       "version_major": 2,
       "version_minor": 0
      },
      "text/plain": [
       "  0%|          | 0/51 [00:00<?, ?it/s]"
      ]
     },
     "metadata": {},
     "output_type": "display_data"
    },
    {
     "name": "stdout",
     "output_type": "stream",
     "text": [
      "d_real: 0.7101292610168457\n",
      "d_fake: 0.6010503768920898\n",
      "Epoch : 88  Gen Loss : 0.4354051649570465 Disc Loss : 0.3425627648830414\n"
     ]
    },
    {
     "data": {
      "application/vnd.jupyter.widget-view+json": {
       "model_id": "6767fbf10fc3428bac2947da785a308b",
       "version_major": 2,
       "version_minor": 0
      },
      "text/plain": [
       "  0%|          | 0/51 [00:00<?, ?it/s]"
      ]
     },
     "metadata": {},
     "output_type": "display_data"
    },
    {
     "name": "stdout",
     "output_type": "stream",
     "text": [
      "d_real: 0.624064564704895\n",
      "d_fake: 0.5754176378250122\n",
      "Epoch : 89  Gen Loss : 0.4716932773590088 Disc Loss : 0.253073126077652\n"
     ]
    },
    {
     "data": {
      "application/vnd.jupyter.widget-view+json": {
       "model_id": "1e2c022f4804437aa0766081771e9182",
       "version_major": 2,
       "version_minor": 0
      },
      "text/plain": [
       "  0%|          | 0/51 [00:00<?, ?it/s]"
      ]
     },
     "metadata": {},
     "output_type": "display_data"
    },
    {
     "name": "stdout",
     "output_type": "stream",
     "text": [
      "d_real: 0.632189929485321\n",
      "d_fake: 0.5880082845687866\n",
      "=> Saving checkpoint\n",
      "=> Saving checkpoint\n",
      "save example\n",
      "Epoch : 90  Gen Loss : 0.4648759961128235 Disc Loss : 0.27512142062187195\n"
     ]
    },
    {
     "data": {
      "application/vnd.jupyter.widget-view+json": {
       "model_id": "b31a1cf24e9340a4bbe53722b03f7bcf",
       "version_major": 2,
       "version_minor": 0
      },
      "text/plain": [
       "  0%|          | 0/51 [00:00<?, ?it/s]"
      ]
     },
     "metadata": {},
     "output_type": "display_data"
    },
    {
     "name": "stdout",
     "output_type": "stream",
     "text": [
      "d_real: 0.6224684119224548\n",
      "d_fake: 0.5196035504341125\n",
      "Epoch : 91  Gen Loss : 0.5920268297195435 Disc Loss : 0.2032679319381714\n"
     ]
    },
    {
     "data": {
      "application/vnd.jupyter.widget-view+json": {
       "model_id": "d66b9316858e4be888d22310918ab168",
       "version_major": 2,
       "version_minor": 0
      },
      "text/plain": [
       "  0%|          | 0/51 [00:00<?, ?it/s]"
      ]
     },
     "metadata": {},
     "output_type": "display_data"
    },
    {
     "name": "stdout",
     "output_type": "stream",
     "text": [
      "d_real: 0.7012205719947815\n",
      "d_fake: 0.5593804717063904\n",
      "Epoch : 92  Gen Loss : 0.5315811038017273 Disc Loss : 0.20180678367614746\n"
     ]
    },
    {
     "data": {
      "application/vnd.jupyter.widget-view+json": {
       "model_id": "54867dfcfa914104bf8d5fd364f33743",
       "version_major": 2,
       "version_minor": 0
      },
      "text/plain": [
       "  0%|          | 0/51 [00:00<?, ?it/s]"
      ]
     },
     "metadata": {},
     "output_type": "display_data"
    },
    {
     "name": "stdout",
     "output_type": "stream",
     "text": [
      "d_real: 0.6308937668800354\n",
      "d_fake: 0.5833318829536438\n",
      "Epoch : 93  Gen Loss : 0.45169344544410706 Disc Loss : 0.24326376616954803\n"
     ]
    },
    {
     "data": {
      "application/vnd.jupyter.widget-view+json": {
       "model_id": "994a199746fe4ee6b133864d72c0675d",
       "version_major": 2,
       "version_minor": 0
      },
      "text/plain": [
       "  0%|          | 0/51 [00:00<?, ?it/s]"
      ]
     },
     "metadata": {},
     "output_type": "display_data"
    },
    {
     "name": "stdout",
     "output_type": "stream",
     "text": [
      "d_real: 0.6684141755104065\n",
      "d_fake: 0.5953670740127563\n",
      "Epoch : 94  Gen Loss : 0.4105716049671173 Disc Loss : 0.23050625622272491\n"
     ]
    },
    {
     "data": {
      "application/vnd.jupyter.widget-view+json": {
       "model_id": "ed41b60631984db4911d5baa745f5696",
       "version_major": 2,
       "version_minor": 0
      },
      "text/plain": [
       "  0%|          | 0/51 [00:00<?, ?it/s]"
      ]
     },
     "metadata": {},
     "output_type": "display_data"
    },
    {
     "name": "stdout",
     "output_type": "stream",
     "text": [
      "d_real: 0.7010435461997986\n",
      "d_fake: 0.5728591084480286\n",
      "Epoch : 95  Gen Loss : 0.4857684373855591 Disc Loss : 0.2015601098537445\n"
     ]
    },
    {
     "data": {
      "application/vnd.jupyter.widget-view+json": {
       "model_id": "38c7369e74834f9e96757fd233508cc6",
       "version_major": 2,
       "version_minor": 0
      },
      "text/plain": [
       "  0%|          | 0/51 [00:00<?, ?it/s]"
      ]
     },
     "metadata": {},
     "output_type": "display_data"
    },
    {
     "name": "stdout",
     "output_type": "stream",
     "text": [
      "d_real: 0.6469628810882568\n",
      "d_fake: 0.5599107146263123\n",
      "Epoch : 96  Gen Loss : 0.5169044733047485 Disc Loss : 0.08755996078252792\n"
     ]
    },
    {
     "data": {
      "application/vnd.jupyter.widget-view+json": {
       "model_id": "f583b0b6123840bcb245e6e41f1fd201",
       "version_major": 2,
       "version_minor": 0
      },
      "text/plain": [
       "  0%|          | 0/51 [00:00<?, ?it/s]"
      ]
     },
     "metadata": {},
     "output_type": "display_data"
    },
    {
     "name": "stdout",
     "output_type": "stream",
     "text": [
      "d_real: 0.6555792689323425\n",
      "d_fake: 0.5575547814369202\n",
      "Epoch : 97  Gen Loss : 0.5038688778877258 Disc Loss : 0.18372982740402222\n"
     ]
    },
    {
     "data": {
      "application/vnd.jupyter.widget-view+json": {
       "model_id": "13cd7f7a47894f4faa85d526d9501c48",
       "version_major": 2,
       "version_minor": 0
      },
      "text/plain": [
       "  0%|          | 0/51 [00:00<?, ?it/s]"
      ]
     },
     "metadata": {},
     "output_type": "display_data"
    },
    {
     "name": "stdout",
     "output_type": "stream",
     "text": [
      "d_real: 0.631230354309082\n",
      "d_fake: 0.5256814956665039\n",
      "Epoch : 98  Gen Loss : 0.5760529041290283 Disc Loss : 0.18224337697029114\n"
     ]
    },
    {
     "data": {
      "application/vnd.jupyter.widget-view+json": {
       "model_id": "3be15f7ef53d40e5b52d4a68c923b66b",
       "version_major": 2,
       "version_minor": 0
      },
      "text/plain": [
       "  0%|          | 0/51 [00:00<?, ?it/s]"
      ]
     },
     "metadata": {},
     "output_type": "display_data"
    },
    {
     "name": "stdout",
     "output_type": "stream",
     "text": [
      "d_real: 0.6033867597579956\n",
      "d_fake: 0.6454627513885498\n",
      "Epoch : 99  Gen Loss : 0.3008301854133606 Disc Loss : 0.2343977838754654\n"
     ]
    },
    {
     "data": {
      "application/vnd.jupyter.widget-view+json": {
       "model_id": "69a24361e74541259f5304635e990af7",
       "version_major": 2,
       "version_minor": 0
      },
      "text/plain": [
       "  0%|          | 0/51 [00:00<?, ?it/s]"
      ]
     },
     "metadata": {},
     "output_type": "display_data"
    },
    {
     "name": "stdout",
     "output_type": "stream",
     "text": [
      "d_real: 0.6193440556526184\n",
      "d_fake: 0.6269538402557373\n",
      "=> Saving checkpoint\n",
      "=> Saving checkpoint\n",
      "save example\n",
      "Epoch : 100  Gen Loss : 0.3560456335544586 Disc Loss : 0.25950542092323303\n"
     ]
    },
    {
     "data": {
      "application/vnd.jupyter.widget-view+json": {
       "model_id": "a3d62b85fcdf4628ac2130e87c0cd20d",
       "version_major": 2,
       "version_minor": 0
      },
      "text/plain": [
       "  0%|          | 0/51 [00:00<?, ?it/s]"
      ]
     },
     "metadata": {},
     "output_type": "display_data"
    },
    {
     "name": "stdout",
     "output_type": "stream",
     "text": [
      "d_real: 0.639859139919281\n",
      "d_fake: 0.6424740552902222\n",
      "Epoch : 101  Gen Loss : 0.3144470453262329 Disc Loss : 0.13275745511054993\n"
     ]
    },
    {
     "data": {
      "application/vnd.jupyter.widget-view+json": {
       "model_id": "1a182232017744f8b77607b9787ce710",
       "version_major": 2,
       "version_minor": 0
      },
      "text/plain": [
       "  0%|          | 0/51 [00:00<?, ?it/s]"
      ]
     },
     "metadata": {},
     "output_type": "display_data"
    },
    {
     "name": "stdout",
     "output_type": "stream",
     "text": [
      "d_real: 0.6659231185913086\n",
      "d_fake: 0.6284561157226562\n",
      "Epoch : 102  Gen Loss : 0.3398282825946808 Disc Loss : 0.1887303739786148\n"
     ]
    },
    {
     "data": {
      "application/vnd.jupyter.widget-view+json": {
       "model_id": "fd953c767a77460294137787dea81775",
       "version_major": 2,
       "version_minor": 0
      },
      "text/plain": [
       "  0%|          | 0/51 [00:00<?, ?it/s]"
      ]
     },
     "metadata": {},
     "output_type": "display_data"
    },
    {
     "name": "stdout",
     "output_type": "stream",
     "text": [
      "d_real: 0.6439167261123657\n",
      "d_fake: 0.554067075252533\n",
      "Epoch : 103  Gen Loss : 0.5064145922660828 Disc Loss : 0.10070352256298065\n"
     ]
    },
    {
     "data": {
      "application/vnd.jupyter.widget-view+json": {
       "model_id": "1f602d40edf248b38e38e936829309d3",
       "version_major": 2,
       "version_minor": 0
      },
      "text/plain": [
       "  0%|          | 0/51 [00:00<?, ?it/s]"
      ]
     },
     "metadata": {},
     "output_type": "display_data"
    },
    {
     "name": "stdout",
     "output_type": "stream",
     "text": [
      "d_real: 0.7009296417236328\n",
      "d_fake: 0.6378844976425171\n",
      "Epoch : 104  Gen Loss : 0.3202197253704071 Disc Loss : 0.13161110877990723\n"
     ]
    },
    {
     "data": {
      "application/vnd.jupyter.widget-view+json": {
       "model_id": "b017fc1e7bb545879430ba7ba6772e2b",
       "version_major": 2,
       "version_minor": 0
      },
      "text/plain": [
       "  0%|          | 0/51 [00:00<?, ?it/s]"
      ]
     },
     "metadata": {},
     "output_type": "display_data"
    },
    {
     "name": "stdout",
     "output_type": "stream",
     "text": [
      "d_real: 0.61845862865448\n",
      "d_fake: 0.623954176902771\n",
      "Epoch : 105  Gen Loss : 0.34605127573013306 Disc Loss : 0.2557285726070404\n"
     ]
    },
    {
     "data": {
      "application/vnd.jupyter.widget-view+json": {
       "model_id": "04d46c37d9ea44da8c412c43dbbeab1e",
       "version_major": 2,
       "version_minor": 0
      },
      "text/plain": [
       "  0%|          | 0/51 [00:00<?, ?it/s]"
      ]
     },
     "metadata": {},
     "output_type": "display_data"
    },
    {
     "name": "stdout",
     "output_type": "stream",
     "text": [
      "d_real: 0.6273531913757324\n",
      "d_fake: 0.6226269006729126\n",
      "Epoch : 106  Gen Loss : 0.3480178713798523 Disc Loss : 0.25098228454589844\n"
     ]
    },
    {
     "data": {
      "application/vnd.jupyter.widget-view+json": {
       "model_id": "9ddef4fac2874b69827444630ed759c9",
       "version_major": 2,
       "version_minor": 0
      },
      "text/plain": [
       "  0%|          | 0/51 [00:00<?, ?it/s]"
      ]
     },
     "metadata": {},
     "output_type": "display_data"
    },
    {
     "name": "stdout",
     "output_type": "stream",
     "text": [
      "d_real: 0.6230254173278809\n",
      "d_fake: 0.6046208143234253\n",
      "Epoch : 107  Gen Loss : 0.38614434003829956 Disc Loss : 0.23954111337661743\n"
     ]
    },
    {
     "data": {
      "application/vnd.jupyter.widget-view+json": {
       "model_id": "25c391ba2a264400a88429f505c6edf5",
       "version_major": 2,
       "version_minor": 0
      },
      "text/plain": [
       "  0%|          | 0/51 [00:00<?, ?it/s]"
      ]
     },
     "metadata": {},
     "output_type": "display_data"
    },
    {
     "name": "stdout",
     "output_type": "stream",
     "text": [
      "d_real: 0.6362920999526978\n",
      "d_fake: 0.5744204521179199\n",
      "Epoch : 108  Gen Loss : 0.44897156953811646 Disc Loss : 0.23789429664611816\n"
     ]
    },
    {
     "data": {
      "application/vnd.jupyter.widget-view+json": {
       "model_id": "bbd658a52f144a88b33656636dd7af5a",
       "version_major": 2,
       "version_minor": 0
      },
      "text/plain": [
       "  0%|          | 0/51 [00:00<?, ?it/s]"
      ]
     },
     "metadata": {},
     "output_type": "display_data"
    },
    {
     "name": "stdout",
     "output_type": "stream",
     "text": [
      "d_real: 0.615638792514801\n",
      "d_fake: 0.6229678988456726\n",
      "Epoch : 109  Gen Loss : 0.33677491545677185 Disc Loss : 0.2527112066745758\n"
     ]
    },
    {
     "data": {
      "application/vnd.jupyter.widget-view+json": {
       "model_id": "ee11859fa4794f1a8377f303dcf7afa6",
       "version_major": 2,
       "version_minor": 0
      },
      "text/plain": [
       "  0%|          | 0/51 [00:00<?, ?it/s]"
      ]
     },
     "metadata": {},
     "output_type": "display_data"
    },
    {
     "name": "stdout",
     "output_type": "stream",
     "text": [
      "d_real: 0.6725109815597534\n",
      "d_fake: 0.6324481964111328\n",
      "=> Saving checkpoint\n",
      "=> Saving checkpoint\n",
      "save example\n",
      "Epoch : 110  Gen Loss : 0.33412280678749084 Disc Loss : 0.20800499618053436\n"
     ]
    },
    {
     "data": {
      "application/vnd.jupyter.widget-view+json": {
       "model_id": "bd990cdb1e4341089009e71e05856ce5",
       "version_major": 2,
       "version_minor": 0
      },
      "text/plain": [
       "  0%|          | 0/51 [00:00<?, ?it/s]"
      ]
     },
     "metadata": {},
     "output_type": "display_data"
    },
    {
     "name": "stdout",
     "output_type": "stream",
     "text": [
      "d_real: 0.6590949296951294\n",
      "d_fake: 0.6179581880569458\n",
      "Epoch : 111  Gen Loss : 0.34493908286094666 Disc Loss : 0.1321454644203186\n"
     ]
    },
    {
     "data": {
      "application/vnd.jupyter.widget-view+json": {
       "model_id": "547c67d4903441008e3f7974a3370e7e",
       "version_major": 2,
       "version_minor": 0
      },
      "text/plain": [
       "  0%|          | 0/51 [00:00<?, ?it/s]"
      ]
     },
     "metadata": {},
     "output_type": "display_data"
    },
    {
     "name": "stdout",
     "output_type": "stream",
     "text": [
      "d_real: 0.661935031414032\n",
      "d_fake: 0.6332874298095703\n",
      "Epoch : 112  Gen Loss : 0.3165108561515808 Disc Loss : 0.2512596845626831\n"
     ]
    },
    {
     "data": {
      "application/vnd.jupyter.widget-view+json": {
       "model_id": "928a91196cf642cdb9958877f4cf0fab",
       "version_major": 2,
       "version_minor": 0
      },
      "text/plain": [
       "  0%|          | 0/51 [00:00<?, ?it/s]"
      ]
     },
     "metadata": {},
     "output_type": "display_data"
    },
    {
     "name": "stdout",
     "output_type": "stream",
     "text": [
      "d_real: 0.6387253403663635\n",
      "d_fake: 0.540273129940033\n",
      "Epoch : 113  Gen Loss : 0.5083649754524231 Disc Loss : 0.11046530306339264\n"
     ]
    },
    {
     "data": {
      "application/vnd.jupyter.widget-view+json": {
       "model_id": "bb0e2c90af5c430bacb3fb665f1d19f3",
       "version_major": 2,
       "version_minor": 0
      },
      "text/plain": [
       "  0%|          | 0/51 [00:00<?, ?it/s]"
      ]
     },
     "metadata": {},
     "output_type": "display_data"
    },
    {
     "name": "stdout",
     "output_type": "stream",
     "text": [
      "d_real: 0.6385794878005981\n",
      "d_fake: 0.6111198663711548\n",
      "Epoch : 114  Gen Loss : 0.36752402782440186 Disc Loss : 0.28056448698043823\n"
     ]
    },
    {
     "data": {
      "application/vnd.jupyter.widget-view+json": {
       "model_id": "b51911f4b3a24b6e9128f0f36bf8498d",
       "version_major": 2,
       "version_minor": 0
      },
      "text/plain": [
       "  0%|          | 0/51 [00:00<?, ?it/s]"
      ]
     },
     "metadata": {},
     "output_type": "display_data"
    },
    {
     "name": "stdout",
     "output_type": "stream",
     "text": [
      "d_real: 0.63204425573349\n",
      "d_fake: 0.4581799805164337\n",
      "Epoch : 115  Gen Loss : 0.6744469404220581 Disc Loss : 0.24915434420108795\n"
     ]
    },
    {
     "data": {
      "application/vnd.jupyter.widget-view+json": {
       "model_id": "75c180e2dab44363a339149b3c5628db",
       "version_major": 2,
       "version_minor": 0
      },
      "text/plain": [
       "  0%|          | 0/51 [00:00<?, ?it/s]"
      ]
     },
     "metadata": {},
     "output_type": "display_data"
    },
    {
     "name": "stdout",
     "output_type": "stream",
     "text": [
      "d_real: 0.6129060983657837\n",
      "d_fake: 0.602178156375885\n",
      "Epoch : 116  Gen Loss : 0.3829113841056824 Disc Loss : 0.21276192367076874\n"
     ]
    },
    {
     "data": {
      "application/vnd.jupyter.widget-view+json": {
       "model_id": "999438cdee6a47288088a0a40bb80f31",
       "version_major": 2,
       "version_minor": 0
      },
      "text/plain": [
       "  0%|          | 0/51 [00:00<?, ?it/s]"
      ]
     },
     "metadata": {},
     "output_type": "display_data"
    },
    {
     "name": "stdout",
     "output_type": "stream",
     "text": [
      "d_real: 0.643004834651947\n",
      "d_fake: 0.5813228487968445\n",
      "Epoch : 117  Gen Loss : 0.4252481460571289 Disc Loss : 0.23561668395996094\n"
     ]
    },
    {
     "data": {
      "application/vnd.jupyter.widget-view+json": {
       "model_id": "364ae2a400da4f02a2b5cffd5c9cefe7",
       "version_major": 2,
       "version_minor": 0
      },
      "text/plain": [
       "  0%|          | 0/51 [00:00<?, ?it/s]"
      ]
     },
     "metadata": {},
     "output_type": "display_data"
    },
    {
     "name": "stdout",
     "output_type": "stream",
     "text": [
      "d_real: 0.7052788734436035\n",
      "d_fake: 0.5482174754142761\n",
      "Epoch : 118  Gen Loss : 0.49259257316589355 Disc Loss : 0.031774312257766724\n"
     ]
    },
    {
     "data": {
      "application/vnd.jupyter.widget-view+json": {
       "model_id": "e3c3cf197b904fc5a29b43fce7a05af3",
       "version_major": 2,
       "version_minor": 0
      },
      "text/plain": [
       "  0%|          | 0/51 [00:00<?, ?it/s]"
      ]
     },
     "metadata": {},
     "output_type": "display_data"
    },
    {
     "name": "stdout",
     "output_type": "stream",
     "text": [
      "d_real: 0.62336665391922\n",
      "d_fake: 0.557591438293457\n",
      "Epoch : 119  Gen Loss : 0.4657444953918457 Disc Loss : 0.27694299817085266\n"
     ]
    },
    {
     "data": {
      "application/vnd.jupyter.widget-view+json": {
       "model_id": "4f3c1e3df287487a9d651cbfd9777577",
       "version_major": 2,
       "version_minor": 0
      },
      "text/plain": [
       "  0%|          | 0/51 [00:00<?, ?it/s]"
      ]
     },
     "metadata": {},
     "output_type": "display_data"
    },
    {
     "name": "stdout",
     "output_type": "stream",
     "text": [
      "d_real: 0.6436311602592468\n",
      "d_fake: 0.575439453125\n",
      "=> Saving checkpoint\n",
      "=> Saving checkpoint\n",
      "save example\n",
      "Epoch : 120  Gen Loss : 0.4368552565574646 Disc Loss : 0.24147655069828033\n"
     ]
    },
    {
     "data": {
      "application/vnd.jupyter.widget-view+json": {
       "model_id": "e85b861dbfc04887b0e187cec8365dac",
       "version_major": 2,
       "version_minor": 0
      },
      "text/plain": [
       "  0%|          | 0/51 [00:00<?, ?it/s]"
      ]
     },
     "metadata": {},
     "output_type": "display_data"
    },
    {
     "name": "stdout",
     "output_type": "stream",
     "text": [
      "d_real: 0.5804324746131897\n",
      "d_fake: 0.4909334182739258\n",
      "Epoch : 121  Gen Loss : 0.5989611148834229 Disc Loss : 0.3229075074195862\n"
     ]
    },
    {
     "data": {
      "application/vnd.jupyter.widget-view+json": {
       "model_id": "d2e6595c3e4549e08f862a398f783539",
       "version_major": 2,
       "version_minor": 0
      },
      "text/plain": [
       "  0%|          | 0/51 [00:00<?, ?it/s]"
      ]
     },
     "metadata": {},
     "output_type": "display_data"
    },
    {
     "name": "stdout",
     "output_type": "stream",
     "text": [
      "d_real: 0.6398410797119141\n",
      "d_fake: 0.5466489195823669\n",
      "Epoch : 122  Gen Loss : 0.4934775233268738 Disc Loss : 0.25247612595558167\n"
     ]
    },
    {
     "data": {
      "application/vnd.jupyter.widget-view+json": {
       "model_id": "d8721f56c30a492e9cc271d01427c114",
       "version_major": 2,
       "version_minor": 0
      },
      "text/plain": [
       "  0%|          | 0/51 [00:00<?, ?it/s]"
      ]
     },
     "metadata": {},
     "output_type": "display_data"
    },
    {
     "name": "stdout",
     "output_type": "stream",
     "text": [
      "d_real: 0.6397034525871277\n",
      "d_fake: 0.484725683927536\n",
      "Epoch : 123  Gen Loss : 0.623105525970459 Disc Loss : 0.12744764983654022\n"
     ]
    },
    {
     "data": {
      "application/vnd.jupyter.widget-view+json": {
       "model_id": "cc7c72f9136b40c3a070b8cfd3d1f7e8",
       "version_major": 2,
       "version_minor": 0
      },
      "text/plain": [
       "  0%|          | 0/51 [00:00<?, ?it/s]"
      ]
     },
     "metadata": {},
     "output_type": "display_data"
    },
    {
     "name": "stdout",
     "output_type": "stream",
     "text": [
      "d_real: 0.66544109582901\n",
      "d_fake: 0.5404675006866455\n",
      "Epoch : 124  Gen Loss : 0.505303680896759 Disc Loss : 0.18235577642917633\n"
     ]
    },
    {
     "data": {
      "application/vnd.jupyter.widget-view+json": {
       "model_id": "319497b7bb59408d9b58534550c9a35b",
       "version_major": 2,
       "version_minor": 0
      },
      "text/plain": [
       "  0%|          | 0/51 [00:00<?, ?it/s]"
      ]
     },
     "metadata": {},
     "output_type": "display_data"
    },
    {
     "name": "stdout",
     "output_type": "stream",
     "text": [
      "d_real: 0.6359036564826965\n",
      "d_fake: 0.588605523109436\n",
      "Epoch : 125  Gen Loss : 0.39600670337677 Disc Loss : 0.12499891966581345\n"
     ]
    },
    {
     "data": {
      "application/vnd.jupyter.widget-view+json": {
       "model_id": "d2a3b19670fa449e9f08c25ff1a2db04",
       "version_major": 2,
       "version_minor": 0
      },
      "text/plain": [
       "  0%|          | 0/51 [00:00<?, ?it/s]"
      ]
     },
     "metadata": {},
     "output_type": "display_data"
    },
    {
     "name": "stdout",
     "output_type": "stream",
     "text": [
      "d_real: 0.6989916563034058\n",
      "d_fake: 0.621171772480011\n",
      "Epoch : 126  Gen Loss : 0.33693063259124756 Disc Loss : 0.11801183223724365\n"
     ]
    },
    {
     "data": {
      "application/vnd.jupyter.widget-view+json": {
       "model_id": "308c1a1a9b724723bbe298089d45fd15",
       "version_major": 2,
       "version_minor": 0
      },
      "text/plain": [
       "  0%|          | 0/51 [00:00<?, ?it/s]"
      ]
     },
     "metadata": {},
     "output_type": "display_data"
    },
    {
     "name": "stdout",
     "output_type": "stream",
     "text": [
      "d_real: 0.6234903335571289\n",
      "d_fake: 0.634121835231781\n",
      "Epoch : 127  Gen Loss : 0.3098459839820862 Disc Loss : 0.17196601629257202\n"
     ]
    },
    {
     "data": {
      "application/vnd.jupyter.widget-view+json": {
       "model_id": "28b2500d9cb147b8b10ba7a06bd2152b",
       "version_major": 2,
       "version_minor": 0
      },
      "text/plain": [
       "  0%|          | 0/51 [00:00<?, ?it/s]"
      ]
     },
     "metadata": {},
     "output_type": "display_data"
    },
    {
     "name": "stdout",
     "output_type": "stream",
     "text": [
      "d_real: 0.6315714120864868\n",
      "d_fake: 0.6244916915893555\n",
      "Epoch : 128  Gen Loss : 0.32678842544555664 Disc Loss : 0.17588654160499573\n"
     ]
    },
    {
     "data": {
      "application/vnd.jupyter.widget-view+json": {
       "model_id": "6601560b5bae48baa7fd708863467f4d",
       "version_major": 2,
       "version_minor": 0
      },
      "text/plain": [
       "  0%|          | 0/51 [00:00<?, ?it/s]"
      ]
     },
     "metadata": {},
     "output_type": "display_data"
    },
    {
     "name": "stdout",
     "output_type": "stream",
     "text": [
      "d_real: 0.5887383222579956\n",
      "d_fake: 0.47242915630340576\n",
      "Epoch : 129  Gen Loss : 0.6445836424827576 Disc Loss : 0.33710601925849915\n"
     ]
    },
    {
     "data": {
      "application/vnd.jupyter.widget-view+json": {
       "model_id": "1241c4aacdcd49d8942e3393366fe547",
       "version_major": 2,
       "version_minor": 0
      },
      "text/plain": [
       "  0%|          | 0/51 [00:00<?, ?it/s]"
      ]
     },
     "metadata": {},
     "output_type": "display_data"
    },
    {
     "name": "stdout",
     "output_type": "stream",
     "text": [
      "d_real: 0.6043174266815186\n",
      "d_fake: 0.6287502646446228\n",
      "=> Saving checkpoint\n",
      "=> Saving checkpoint\n",
      "save example\n",
      "Epoch : 130  Gen Loss : 0.31569215655326843 Disc Loss : 0.21784235537052155\n"
     ]
    },
    {
     "data": {
      "application/vnd.jupyter.widget-view+json": {
       "model_id": "2ed98f57c9f84b278eff4c5969b3188d",
       "version_major": 2,
       "version_minor": 0
      },
      "text/plain": [
       "  0%|          | 0/51 [00:00<?, ?it/s]"
      ]
     },
     "metadata": {},
     "output_type": "display_data"
    },
    {
     "name": "stdout",
     "output_type": "stream",
     "text": [
      "d_real: 0.6762218475341797\n",
      "d_fake: 0.5721760392189026\n",
      "Epoch : 131  Gen Loss : 0.4377667307853699 Disc Loss : 0.1548035740852356\n"
     ]
    },
    {
     "data": {
      "application/vnd.jupyter.widget-view+json": {
       "model_id": "73c9c628642941528153f5b19d99a2ce",
       "version_major": 2,
       "version_minor": 0
      },
      "text/plain": [
       "  0%|          | 0/51 [00:00<?, ?it/s]"
      ]
     },
     "metadata": {},
     "output_type": "display_data"
    },
    {
     "name": "stdout",
     "output_type": "stream",
     "text": [
      "d_real: 0.6664565801620483\n",
      "d_fake: 0.5844076871871948\n",
      "Epoch : 132  Gen Loss : 0.4170745611190796 Disc Loss : 0.1319301575422287\n"
     ]
    },
    {
     "data": {
      "application/vnd.jupyter.widget-view+json": {
       "model_id": "4703eff634ea47b9bb52edba592253ca",
       "version_major": 2,
       "version_minor": 0
      },
      "text/plain": [
       "  0%|          | 0/51 [00:00<?, ?it/s]"
      ]
     },
     "metadata": {},
     "output_type": "display_data"
    },
    {
     "name": "stdout",
     "output_type": "stream",
     "text": [
      "d_real: 0.6745532155036926\n",
      "d_fake: 0.5240064263343811\n",
      "Epoch : 133  Gen Loss : 0.5258451700210571 Disc Loss : 0.2519257366657257\n"
     ]
    },
    {
     "data": {
      "application/vnd.jupyter.widget-view+json": {
       "model_id": "e8e4a62ec4a74e0aaa0834389b495b77",
       "version_major": 2,
       "version_minor": 0
      },
      "text/plain": [
       "  0%|          | 0/51 [00:00<?, ?it/s]"
      ]
     },
     "metadata": {},
     "output_type": "display_data"
    },
    {
     "name": "stdout",
     "output_type": "stream",
     "text": [
      "d_real: 0.6514376997947693\n",
      "d_fake: 0.5396255850791931\n",
      "Epoch : 134  Gen Loss : 0.4924446642398834 Disc Loss : 0.21345248818397522\n"
     ]
    },
    {
     "data": {
      "application/vnd.jupyter.widget-view+json": {
       "model_id": "37d767033cc2457d8f92d68590ae8953",
       "version_major": 2,
       "version_minor": 0
      },
      "text/plain": [
       "  0%|          | 0/51 [00:00<?, ?it/s]"
      ]
     },
     "metadata": {},
     "output_type": "display_data"
    },
    {
     "name": "stdout",
     "output_type": "stream",
     "text": [
      "d_real: 0.6421248912811279\n",
      "d_fake: 0.5118874907493591\n",
      "Epoch : 135  Gen Loss : 0.5479847192764282 Disc Loss : 0.13464485108852386\n"
     ]
    },
    {
     "data": {
      "application/vnd.jupyter.widget-view+json": {
       "model_id": "d428ef129ccd46ecbc9f995794f19433",
       "version_major": 2,
       "version_minor": 0
      },
      "text/plain": [
       "  0%|          | 0/51 [00:00<?, ?it/s]"
      ]
     },
     "metadata": {},
     "output_type": "display_data"
    }
   ],
   "source": [
    "from torch.optim.lr_scheduler import ReduceLROnPlateau\n",
    "def main():\n",
    "    start = 51\n",
    "    rgb_on = False\n",
    "    channels = 3 if rgb_on else 1\n",
    "\n",
    "    # batch_size = [16,32]\n",
    "\n",
    "    netD = Discriminator(in_channels=channels).to(config.DEVICE)\n",
    "    netG = Generator(in_channels=channels).to(config.DEVICE)\n",
    "    \n",
    "    optimizerD = torch.optim.Adam(\n",
    "        netD.parameters(), lr=config.LEARNING_RATE_DISC, betas=(config.BETA1, 0.999)\n",
    "    )\n",
    "    optimizerG = torch.optim.Adam(\n",
    "        netG.parameters(), lr=config.LEARNING_RATE_GEN, betas=(config.BETA1, 0.999)\n",
    "    )\n",
    "\n",
    "\n",
    "    gen_loss = nn.L1Loss()\n",
    "    dis_loss = nn.MSELoss()\n",
    "\n",
    "    \n",
    "    if config.LOAD_MODEL:\n",
    "        load_checkpoint(\n",
    "            config.CHECKPOINT_GEN, start-1, netG, optimizerG, config.LEARNING_RATE_GEN\n",
    "        )\n",
    "        load_checkpoint(\n",
    "            config.CHECKPOINT_DISC, start-1, netD, optimizerD, config.LEARNING_RATE_DISC\n",
    "        )\n",
    "    \n",
    "    train_dataset = Satellite2Map_Data(root=config.TRAIN_DIR, rgb_on=rgb_on)\n",
    "    train_dl = DataLoader(train_dataset, batch_size=config.BATCH_SIZE, shuffle=True, num_workers=config.NUM_WORKERS, pin_memory=True, drop_last=True)\n",
    "    val_dataset = Satellite2Map_Data(root=config.VAL_DIR, rgb_on=rgb_on)\n",
    "    val_dl = DataLoader(val_dataset, batch_size=config.BATCH_SIZE, shuffle=True, num_workers=config.NUM_WORKERS, pin_memory=True, drop_last=True)\n",
    "    \n",
    "    for epoch in range(start, config.NUM_EPOCHS):\n",
    "        \n",
    "        train(netG, netD, train_dl, optimizerG, optimizerD, gen_loss, dis_loss, step_ahead=2)\n",
    "        \n",
    "        # validate(netG, netD, val_dl, gen_loss, dis_loss, scheduler_G, scheduler_D)\n",
    "        \n",
    "\n",
    "        if config.SAVE_MODEL and epoch % 10 == 0 and epoch > 0:\n",
    "            save_checkpoint(netG, optimizerG, epoch, Gen_loss[-1], Dis_loss[-1], filename= f\"./checkpoints/{epoch}_{config.CHECKPOINT_GEN}\")\n",
    "            save_checkpoint(netD, optimizerD, epoch, Gen_loss[-1], Dis_loss[-1], filename= f\"./checkpoints/{epoch}_{config.CHECKPOINT_DISC}\")\n",
    "        if epoch % 10 == 0 :\n",
    "            print(\"save example\")\n",
    "            try:\n",
    "                save_some_examples(netG,val_dl,epoch,folder=\"evaluation\")\n",
    "            except Exception as e:\n",
    "                print(f\"Something went wrong saving with epoch {epoch}: {e}\")\n",
    "\n",
    "        print(\"Epoch :\",epoch, \" Gen Loss :\",Gen_loss[-1], \"Disc Loss :\",Dis_loss[-1])\n",
    "    save_checkpoint(netG, optimizerG, \"final\", Gen_loss[-1], Dis_loss[-1], filename= f\"./checkpoints/{epoch}_{config.CHECKPOINT_GEN}\")\n",
    "    save_checkpoint(netD, optimizerD, \"final\", Gen_loss[-1], Dis_loss[-1], filename= f\"./checkpoints/{epoch}_{config.CHECKPOINT_DISC}\")\n",
    "    print(\"save example\")\n",
    "    try:\n",
    "        save_some_examples(netG,val_dl,config.NUM_EPOCHS,folder=\"evaluation\")\n",
    "    except Exception as e:\n",
    "        print(f\"Something went wrong with the last epoch\")\n",
    "\n",
    "\n",
    "if __name__ == '__main__':\n",
    "    main()"
   ]
  },
  {
   "cell_type": "code",
   "execution_count": null,
   "metadata": {},
   "outputs": [],
   "source": [
    "# Sharpening the image\n",
    "import cv2\n",
    "import numpy as np\n",
    "from skimage import filters\n",
    "\n",
    "# Assuming your GAN-generated elevation image is loaded as a NumPy array\n",
    "elevation_image = # ... your loading code here ...\n",
    "\n",
    "# --- Method 1: Classic Unsharp Masking ---\n",
    "# Highly effective for general sharpening\n",
    "gaussian_blurred = cv2.GaussianBlur(elevation_image, (5, 5), 0) \n",
    "sharpened_image = cv2.addWeighted(elevation_image, 1.5, gaussian_blurred, -0.5, 0)\n",
    "\n",
    "# --- Method 2: Laplacian Sharpening ---\n",
    "# Emphasizes edges, might be too strong for subtle elevation changes\n",
    "laplacian = cv2.Laplacian(elevation_image, cv2.CV_64F)\n",
    "sharpened_image = elevation_image - 0.2 * laplacian \n",
    "\n",
    "# --- Method 3: Using Scikit-Image for Unsharp Masking ---\n",
    "# Offers more control over the sharpening parameters\n",
    "sharpened_image = filters.unsharp_mask(elevation_image, radius=3, amount=1.0)\n",
    "\n",
    "# --- Display or Save the Result ---\n",
    "cv2.imshow(\"Sharpened Elevation\", sharpened_image)\n",
    "cv2.waitKey(0)\n",
    "cv2.destroyAllWindows()\n",
    "\n",
    "# Or save the image:\n",
    "cv2.imwrite(\"sharpened_elevation.png\", sharpened_image) "
   ]
  }
 ],
 "metadata": {
  "kernelspec": {
   "display_name": "Python 3",
   "language": "python",
   "name": "python3"
  },
  "language_info": {
   "codemirror_mode": {
    "name": "ipython",
    "version": 3
   },
   "file_extension": ".py",
   "mimetype": "text/x-python",
   "name": "python",
   "nbconvert_exporter": "python",
   "pygments_lexer": "ipython3",
   "version": "3.11.6"
  }
 },
 "nbformat": 4,
 "nbformat_minor": 2
}
