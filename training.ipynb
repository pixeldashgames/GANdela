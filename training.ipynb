{
 "cells": [
  {
   "cell_type": "code",
   "execution_count": 1,
   "metadata": {},
   "outputs": [
    {
     "name": "stderr",
     "output_type": "stream",
     "text": [
      "ERROR:albumentations.check_version:Error fetching version info\n",
      "Traceback (most recent call last):\n",
      "  File \"c:\\Users\\Alfredo\\AppData\\Local\\Programs\\Python\\Python311\\Lib\\urllib\\request.py\", line 1348, in do_open\n",
      "    h.request(req.get_method(), req.selector, req.data, headers,\n",
      "  File \"c:\\Users\\Alfredo\\AppData\\Local\\Programs\\Python\\Python311\\Lib\\http\\client.py\", line 1286, in request\n",
      "    self._send_request(method, url, body, headers, encode_chunked)\n",
      "  File \"c:\\Users\\Alfredo\\AppData\\Local\\Programs\\Python\\Python311\\Lib\\http\\client.py\", line 1332, in _send_request\n",
      "    self.endheaders(body, encode_chunked=encode_chunked)\n",
      "  File \"c:\\Users\\Alfredo\\AppData\\Local\\Programs\\Python\\Python311\\Lib\\http\\client.py\", line 1281, in endheaders\n",
      "    self._send_output(message_body, encode_chunked=encode_chunked)\n",
      "  File \"c:\\Users\\Alfredo\\AppData\\Local\\Programs\\Python\\Python311\\Lib\\http\\client.py\", line 1041, in _send_output\n",
      "    self.send(msg)\n",
      "  File \"c:\\Users\\Alfredo\\AppData\\Local\\Programs\\Python\\Python311\\Lib\\http\\client.py\", line 979, in send\n",
      "    self.connect()\n",
      "  File \"c:\\Users\\Alfredo\\AppData\\Local\\Programs\\Python\\Python311\\Lib\\http\\client.py\", line 1451, in connect\n",
      "    super().connect()\n",
      "  File \"c:\\Users\\Alfredo\\AppData\\Local\\Programs\\Python\\Python311\\Lib\\http\\client.py\", line 945, in connect\n",
      "    self.sock = self._create_connection(\n",
      "                ^^^^^^^^^^^^^^^^^^^^^^^^\n",
      "  File \"c:\\Users\\Alfredo\\AppData\\Local\\Programs\\Python\\Python311\\Lib\\socket.py\", line 827, in create_connection\n",
      "    for res in getaddrinfo(host, port, 0, SOCK_STREAM):\n",
      "               ^^^^^^^^^^^^^^^^^^^^^^^^^^^^^^^^^^^^^^^\n",
      "  File \"c:\\Users\\Alfredo\\AppData\\Local\\Programs\\Python\\Python311\\Lib\\socket.py\", line 962, in getaddrinfo\n",
      "    for res in _socket.getaddrinfo(host, port, family, type, proto, flags):\n",
      "               ^^^^^^^^^^^^^^^^^^^^^^^^^^^^^^^^^^^^^^^^^^^^^^^^^^^^^^^^^^^\n",
      "socket.gaierror: [Errno 11001] getaddrinfo failed\n",
      "\n",
      "During handling of the above exception, another exception occurred:\n",
      "\n",
      "Traceback (most recent call last):\n",
      "  File \"c:\\Users\\Alfredo\\AppData\\Local\\Programs\\Python\\Python311\\Lib\\site-packages\\albumentations\\check_version.py\", line 29, in fetch_version_info\n",
      "    with opener.open(url, timeout=2) as response:\n",
      "         ^^^^^^^^^^^^^^^^^^^^^^^^^^^\n",
      "  File \"c:\\Users\\Alfredo\\AppData\\Local\\Programs\\Python\\Python311\\Lib\\urllib\\request.py\", line 519, in open\n",
      "    response = self._open(req, data)\n",
      "               ^^^^^^^^^^^^^^^^^^^^^\n",
      "  File \"c:\\Users\\Alfredo\\AppData\\Local\\Programs\\Python\\Python311\\Lib\\urllib\\request.py\", line 536, in _open\n",
      "    result = self._call_chain(self.handle_open, protocol, protocol +\n",
      "             ^^^^^^^^^^^^^^^^^^^^^^^^^^^^^^^^^^^^^^^^^^^^^^^^^^^^^^^\n",
      "  File \"c:\\Users\\Alfredo\\AppData\\Local\\Programs\\Python\\Python311\\Lib\\urllib\\request.py\", line 496, in _call_chain\n",
      "    result = func(*args)\n",
      "             ^^^^^^^^^^^\n",
      "  File \"c:\\Users\\Alfredo\\AppData\\Local\\Programs\\Python\\Python311\\Lib\\urllib\\request.py\", line 1391, in https_open\n",
      "    return self.do_open(http.client.HTTPSConnection, req,\n",
      "           ^^^^^^^^^^^^^^^^^^^^^^^^^^^^^^^^^^^^^^^^^^^^^^\n",
      "  File \"c:\\Users\\Alfredo\\AppData\\Local\\Programs\\Python\\Python311\\Lib\\urllib\\request.py\", line 1351, in do_open\n",
      "    raise URLError(err)\n",
      "urllib.error.URLError: <urlopen error [Errno 11001] getaddrinfo failed>\n"
     ]
    }
   ],
   "source": [
    "import torch\n",
    "from utils.utils import save_checkpoint, load_checkpoint, save_some_examples\n",
    "import torch.nn as nn\n",
    "import torch.optim as optim\n",
    "import config\n",
    "from DataSet.dataset import Satellite2Map_Data\n",
    "from pix2pix.Generator import Generator\n",
    "from pix2pix.Discriminator import Discriminator\n",
    "from torch.utils.data import DataLoader\n",
    "from tqdm.notebook import tqdm\n",
    "\n",
    "\n",
    "torch.backends.cudnn.benchmark = True\n",
    "Gen_loss = []\n",
    "Dis_loss = []\n",
    "step_ahead = 4"
   ]
  },
  {
   "cell_type": "code",
   "execution_count": 2,
   "metadata": {},
   "outputs": [],
   "source": [
    "def train(netG: Generator, netD: Discriminator, train_dl, OptimizerG: optim.Adam, OptimizerD: optim.Adam, gen_loss, dis_loss):\n",
    "    loop = tqdm(train_dl, dynamic_ncols=True)\n",
    "    for idx, (x, y) in enumerate(loop):\n",
    "        x = x.to(config.DEVICE)\n",
    "        y = y.to(config.DEVICE)\n",
    "        y = y.permute(0,3,1,2).float()\n",
    "\n",
    "        # Train Discriminator\n",
    "        y_fake = netG(x).float()\n",
    "        d_real = netD(x, y)\n",
    "        d_real_loss = dis_loss(d_real, torch.ones_like(d_real))\n",
    "        d_fake = netD(x, y_fake.detach())\n",
    "        d_fake_loss = dis_loss(d_fake, torch.zeros_like(d_fake))\n",
    "        d_loss = (d_real_loss + d_fake_loss) / 2\n",
    "\n",
    "        netD.zero_grad()\n",
    "        Dis_loss.append(d_loss.item())\n",
    "        d_loss.backward()\n",
    "        OptimizerD.step()\n",
    "\n",
    "        # Train Generator\n",
    "        d_fake = netD(x, y_fake)\n",
    "        g_fake_loss = gen_loss(d_fake, torch.ones_like(d_fake)) \n",
    "        loss = gen_loss(y_fake, y) # * config.L1_LAMBDA\n",
    "        g_loss = (g_fake_loss + loss)/2\n",
    "\n",
    "\n",
    "        Gen_loss.append(g_loss.item())\n",
    "        g_loss.backward()\n",
    "        OptimizerG.step()\n",
    "\n",
    "        for _ in range(step_ahead):\n",
    "            OptimizerG.zero_grad()\n",
    "            y_fake = netG(x).float()\n",
    "            d_fake = netD(x, y_fake)\n",
    "            g_fake_loss = gen_loss(d_fake, torch.ones_like(d_fake))\n",
    "            loss = gen_loss(y_fake, y) # * config.L1_LAMBDA\n",
    "\n",
    "            g_loss = (g_fake_loss + loss)/2\n",
    "            Gen_loss.append(g_loss.item())\n",
    "            g_loss.backward()\n",
    "            OptimizerG.step()\n",
    "\n",
    "        if idx % 10 == 0:\n",
    "            loop.set_postfix(\n",
    "                d_real=torch.sigmoid(d_real).mean().item(),\n",
    "                d_fake=torch.sigmoid(d_fake).mean().item(),\n",
    "            )\n",
    "    print(\"d_real: \" + str(torch.sigmoid(d_real).mean().item()))\n",
    "    print(\"d_fake: \" + str(torch.sigmoid(d_fake).mean().item()))"
   ]
  },
  {
   "cell_type": "code",
   "execution_count": 3,
   "metadata": {},
   "outputs": [
    {
     "data": {
      "application/vnd.jupyter.widget-view+json": {
       "model_id": "ce8e1fe4e1974ddbb7e1b03728e5b792",
       "version_major": 2,
       "version_minor": 0
      },
      "text/plain": [
       "  0%|          | 0/34 [00:00<?, ?it/s]"
      ]
     },
     "metadata": {},
     "output_type": "display_data"
    },
    {
     "name": "stdout",
     "output_type": "stream",
     "text": [
      "d_real: 0.656052827835083\n",
      "d_fake: 0.5084251761436462\n",
      "save example\n",
      "Epoch : 0  Gen Loss : 4794.04931640625 Disc Loss : 0.3655484616756439\n"
     ]
    },
    {
     "data": {
      "application/vnd.jupyter.widget-view+json": {
       "model_id": "1da92b463bd2439082b2ece86e2df051",
       "version_major": 2,
       "version_minor": 0
      },
      "text/plain": [
       "  0%|          | 0/34 [00:00<?, ?it/s]"
      ]
     },
     "metadata": {},
     "output_type": "display_data"
    },
    {
     "name": "stdout",
     "output_type": "stream",
     "text": [
      "d_real: 0.6322439312934875\n",
      "d_fake: 0.5149700045585632\n",
      "Epoch : 1  Gen Loss : 4160.90576171875 Disc Loss : 0.3844643235206604\n"
     ]
    },
    {
     "data": {
      "application/vnd.jupyter.widget-view+json": {
       "model_id": "16ae184fc224411b81dc95d1d02c8573",
       "version_major": 2,
       "version_minor": 0
      },
      "text/plain": [
       "  0%|          | 0/34 [00:00<?, ?it/s]"
      ]
     },
     "metadata": {},
     "output_type": "display_data"
    },
    {
     "name": "stdout",
     "output_type": "stream",
     "text": [
      "d_real: 0.6381873488426208\n",
      "d_fake: 0.520123302936554\n",
      "save example\n",
      "Epoch : 2  Gen Loss : 4164.61865234375 Disc Loss : 0.3307587802410126\n"
     ]
    },
    {
     "data": {
      "application/vnd.jupyter.widget-view+json": {
       "model_id": "096438d2d17a49e499aa92c12d02f7fb",
       "version_major": 2,
       "version_minor": 0
      },
      "text/plain": [
       "  0%|          | 0/34 [00:00<?, ?it/s]"
      ]
     },
     "metadata": {},
     "output_type": "display_data"
    },
    {
     "name": "stdout",
     "output_type": "stream",
     "text": [
      "d_real: 0.6408076286315918\n",
      "d_fake: 0.5281713008880615\n",
      "Epoch : 3  Gen Loss : 3938.68212890625 Disc Loss : 0.32576969265937805\n"
     ]
    },
    {
     "data": {
      "application/vnd.jupyter.widget-view+json": {
       "model_id": "d869c18239124a9b9b9efc5b5e448ae3",
       "version_major": 2,
       "version_minor": 0
      },
      "text/plain": [
       "  0%|          | 0/34 [00:00<?, ?it/s]"
      ]
     },
     "metadata": {},
     "output_type": "display_data"
    },
    {
     "name": "stdout",
     "output_type": "stream",
     "text": [
      "d_real: 0.6501224637031555\n",
      "d_fake: 0.5314621329307556\n",
      "save example\n",
      "Epoch : 4  Gen Loss : 4318.56640625 Disc Loss : 0.3174758851528168\n"
     ]
    },
    {
     "data": {
      "application/vnd.jupyter.widget-view+json": {
       "model_id": "d4bb704278ef46f1b8b6fb570f31a0d1",
       "version_major": 2,
       "version_minor": 0
      },
      "text/plain": [
       "  0%|          | 0/34 [00:00<?, ?it/s]"
      ]
     },
     "metadata": {},
     "output_type": "display_data"
    },
    {
     "name": "stdout",
     "output_type": "stream",
     "text": [
      "d_real: 0.6442902088165283\n",
      "d_fake: 0.5305838584899902\n",
      "Epoch : 5  Gen Loss : 4637.86279296875 Disc Loss : 0.30401840806007385\n"
     ]
    },
    {
     "data": {
      "application/vnd.jupyter.widget-view+json": {
       "model_id": "a5b92ec92a3c472ba8f059f2bb423419",
       "version_major": 2,
       "version_minor": 0
      },
      "text/plain": [
       "  0%|          | 0/34 [00:00<?, ?it/s]"
      ]
     },
     "metadata": {},
     "output_type": "display_data"
    },
    {
     "name": "stdout",
     "output_type": "stream",
     "text": [
      "d_real: 0.6590099334716797\n",
      "d_fake: 0.5345675945281982\n",
      "save example\n",
      "Epoch : 6  Gen Loss : 4891.27587890625 Disc Loss : 0.2626647651195526\n"
     ]
    },
    {
     "data": {
      "application/vnd.jupyter.widget-view+json": {
       "model_id": "de9988a431e1447fa2a480eff02f6a6c",
       "version_major": 2,
       "version_minor": 0
      },
      "text/plain": [
       "  0%|          | 0/34 [00:00<?, ?it/s]"
      ]
     },
     "metadata": {},
     "output_type": "display_data"
    },
    {
     "name": "stdout",
     "output_type": "stream",
     "text": [
      "d_real: 0.6568162441253662\n",
      "d_fake: 0.5309591293334961\n",
      "Epoch : 7  Gen Loss : 5142.92529296875 Disc Loss : 0.2798402011394501\n"
     ]
    },
    {
     "data": {
      "application/vnd.jupyter.widget-view+json": {
       "model_id": "10f5d1bc3be246afb932eedceb343a20",
       "version_major": 2,
       "version_minor": 0
      },
      "text/plain": [
       "  0%|          | 0/34 [00:00<?, ?it/s]"
      ]
     },
     "metadata": {},
     "output_type": "display_data"
    },
    {
     "name": "stdout",
     "output_type": "stream",
     "text": [
      "d_real: 0.6449084877967834\n",
      "d_fake: 0.5335103273391724\n",
      "save example\n",
      "Epoch : 8  Gen Loss : 4076.576904296875 Disc Loss : 0.252987802028656\n"
     ]
    },
    {
     "data": {
      "application/vnd.jupyter.widget-view+json": {
       "model_id": "2a7d891cceb549058d3231e45c5185db",
       "version_major": 2,
       "version_minor": 0
      },
      "text/plain": [
       "  0%|          | 0/34 [00:00<?, ?it/s]"
      ]
     },
     "metadata": {},
     "output_type": "display_data"
    },
    {
     "name": "stdout",
     "output_type": "stream",
     "text": [
      "d_real: 0.6317894458770752\n",
      "d_fake: 0.5312263369560242\n",
      "Epoch : 9  Gen Loss : 4226.91796875 Disc Loss : 0.2562687397003174\n"
     ]
    },
    {
     "data": {
      "application/vnd.jupyter.widget-view+json": {
       "model_id": "ffd35548933746b4aaaffe8a604f2f8e",
       "version_major": 2,
       "version_minor": 0
      },
      "text/plain": [
       "  0%|          | 0/34 [00:00<?, ?it/s]"
      ]
     },
     "metadata": {},
     "output_type": "display_data"
    },
    {
     "name": "stdout",
     "output_type": "stream",
     "text": [
      "d_real: 0.6566479206085205\n",
      "d_fake: 0.5332763195037842\n",
      "=> Saving checkpoint\n",
      "=> Saving checkpoint\n",
      "save example\n",
      "Epoch : 10  Gen Loss : 4127.47705078125 Disc Loss : 0.23229260742664337\n"
     ]
    },
    {
     "data": {
      "application/vnd.jupyter.widget-view+json": {
       "model_id": "0efd5597682443c3adcdb3bd69a3a466",
       "version_major": 2,
       "version_minor": 0
      },
      "text/plain": [
       "  0%|          | 0/34 [00:00<?, ?it/s]"
      ]
     },
     "metadata": {},
     "output_type": "display_data"
    },
    {
     "name": "stdout",
     "output_type": "stream",
     "text": [
      "d_real: 0.6426325440406799\n",
      "d_fake: 0.5313881635665894\n",
      "Epoch : 11  Gen Loss : 4487.0908203125 Disc Loss : 0.21673735976219177\n"
     ]
    },
    {
     "data": {
      "application/vnd.jupyter.widget-view+json": {
       "model_id": "cfbe9dcc431b4a2db3b00b8d7bd6015a",
       "version_major": 2,
       "version_minor": 0
      },
      "text/plain": [
       "  0%|          | 0/34 [00:00<?, ?it/s]"
      ]
     },
     "metadata": {},
     "output_type": "display_data"
    },
    {
     "name": "stdout",
     "output_type": "stream",
     "text": [
      "d_real: 0.6483606100082397\n",
      "d_fake: 0.5337108373641968\n",
      "save example\n",
      "Epoch : 12  Gen Loss : 3929.832763671875 Disc Loss : 0.19222375750541687\n"
     ]
    },
    {
     "data": {
      "application/vnd.jupyter.widget-view+json": {
       "model_id": "7af984ebaeba4f0c8694e4646d89c501",
       "version_major": 2,
       "version_minor": 0
      },
      "text/plain": [
       "  0%|          | 0/34 [00:00<?, ?it/s]"
      ]
     },
     "metadata": {},
     "output_type": "display_data"
    },
    {
     "name": "stdout",
     "output_type": "stream",
     "text": [
      "d_real: 0.663670003414154\n",
      "d_fake: 0.530544638633728\n",
      "Epoch : 13  Gen Loss : 5765.04296875 Disc Loss : 0.16284428536891937\n"
     ]
    },
    {
     "data": {
      "application/vnd.jupyter.widget-view+json": {
       "model_id": "5815658461e5496e878d4b2c3cd48061",
       "version_major": 2,
       "version_minor": 0
      },
      "text/plain": [
       "  0%|          | 0/34 [00:00<?, ?it/s]"
      ]
     },
     "metadata": {},
     "output_type": "display_data"
    },
    {
     "name": "stdout",
     "output_type": "stream",
     "text": [
      "d_real: 0.6621705293655396\n",
      "d_fake: 0.5351824760437012\n",
      "save example\n",
      "Epoch : 14  Gen Loss : 3427.88427734375 Disc Loss : 0.16095639765262604\n"
     ]
    },
    {
     "data": {
      "application/vnd.jupyter.widget-view+json": {
       "model_id": "6c03f3aa53e6430982b7197f042dbdf4",
       "version_major": 2,
       "version_minor": 0
      },
      "text/plain": [
       "  0%|          | 0/34 [00:00<?, ?it/s]"
      ]
     },
     "metadata": {},
     "output_type": "display_data"
    },
    {
     "name": "stdout",
     "output_type": "stream",
     "text": [
      "d_real: 0.687138557434082\n",
      "d_fake: 0.5292856693267822\n",
      "Epoch : 15  Gen Loss : 5174.642578125 Disc Loss : 0.18264588713645935\n"
     ]
    },
    {
     "data": {
      "application/vnd.jupyter.widget-view+json": {
       "model_id": "f288bb48450a47279e8e13e2890c9de2",
       "version_major": 2,
       "version_minor": 0
      },
      "text/plain": [
       "  0%|          | 0/34 [00:00<?, ?it/s]"
      ]
     },
     "metadata": {},
     "output_type": "display_data"
    },
    {
     "name": "stdout",
     "output_type": "stream",
     "text": [
      "d_real: 0.6607246994972229\n",
      "d_fake: 0.5291721224784851\n",
      "save example\n",
      "Epoch : 16  Gen Loss : 3837.575927734375 Disc Loss : 0.16428112983703613\n"
     ]
    },
    {
     "data": {
      "application/vnd.jupyter.widget-view+json": {
       "model_id": "563137ae35f542f69f0a42c65795a5a8",
       "version_major": 2,
       "version_minor": 0
      },
      "text/plain": [
       "  0%|          | 0/34 [00:00<?, ?it/s]"
      ]
     },
     "metadata": {},
     "output_type": "display_data"
    },
    {
     "name": "stdout",
     "output_type": "stream",
     "text": [
      "d_real: 0.6692271828651428\n",
      "d_fake: 0.5304210782051086\n",
      "Epoch : 17  Gen Loss : 3845.30517578125 Disc Loss : 0.1579919159412384\n"
     ]
    },
    {
     "data": {
      "application/vnd.jupyter.widget-view+json": {
       "model_id": "375ad2708a8f4686b4c2cd89d9253f3c",
       "version_major": 2,
       "version_minor": 0
      },
      "text/plain": [
       "  0%|          | 0/34 [00:00<?, ?it/s]"
      ]
     },
     "metadata": {},
     "output_type": "display_data"
    },
    {
     "name": "stdout",
     "output_type": "stream",
     "text": [
      "d_real: 0.6745588779449463\n",
      "d_fake: 0.5305412411689758\n",
      "save example\n",
      "Epoch : 18  Gen Loss : 4174.01611328125 Disc Loss : 0.13598528504371643\n"
     ]
    },
    {
     "data": {
      "application/vnd.jupyter.widget-view+json": {
       "model_id": "53faea6a0dde401b823efb97451dcce9",
       "version_major": 2,
       "version_minor": 0
      },
      "text/plain": [
       "  0%|          | 0/34 [00:00<?, ?it/s]"
      ]
     },
     "metadata": {},
     "output_type": "display_data"
    },
    {
     "name": "stdout",
     "output_type": "stream",
     "text": [
      "d_real: 0.684827446937561\n",
      "d_fake: 0.5286145806312561\n",
      "Epoch : 19  Gen Loss : 4108.0068359375 Disc Loss : 0.12462253868579865\n"
     ]
    },
    {
     "data": {
      "application/vnd.jupyter.widget-view+json": {
       "model_id": "e8d5aa83d2ba430db02c1cbc2e9a66dc",
       "version_major": 2,
       "version_minor": 0
      },
      "text/plain": [
       "  0%|          | 0/34 [00:00<?, ?it/s]"
      ]
     },
     "metadata": {},
     "output_type": "display_data"
    },
    {
     "name": "stdout",
     "output_type": "stream",
     "text": [
      "d_real: 0.6762755513191223\n",
      "d_fake: 0.5287330746650696\n",
      "=> Saving checkpoint\n",
      "=> Saving checkpoint\n",
      "save example\n",
      "Epoch : 20  Gen Loss : 4715.240234375 Disc Loss : 0.13954868912696838\n"
     ]
    },
    {
     "data": {
      "application/vnd.jupyter.widget-view+json": {
       "model_id": "d3f6ea97f6024273a50c2d9578e74034",
       "version_major": 2,
       "version_minor": 0
      },
      "text/plain": [
       "  0%|          | 0/34 [00:00<?, ?it/s]"
      ]
     },
     "metadata": {},
     "output_type": "display_data"
    },
    {
     "name": "stdout",
     "output_type": "stream",
     "text": [
      "d_real: 0.6608948707580566\n",
      "d_fake: 0.5295476317405701\n",
      "Epoch : 21  Gen Loss : 4687.28955078125 Disc Loss : 0.14492960274219513\n"
     ]
    },
    {
     "data": {
      "application/vnd.jupyter.widget-view+json": {
       "model_id": "0167c4762e424a618fe0d19922a7a3fa",
       "version_major": 2,
       "version_minor": 0
      },
      "text/plain": [
       "  0%|          | 0/34 [00:00<?, ?it/s]"
      ]
     },
     "metadata": {},
     "output_type": "display_data"
    },
    {
     "name": "stdout",
     "output_type": "stream",
     "text": [
      "d_real: 0.6714622974395752\n",
      "d_fake: 0.5244181156158447\n",
      "save example\n",
      "Epoch : 22  Gen Loss : 5077.20458984375 Disc Loss : 0.16911625862121582\n"
     ]
    },
    {
     "data": {
      "application/vnd.jupyter.widget-view+json": {
       "model_id": "bc39734d14ec46b6ac118804631b56ce",
       "version_major": 2,
       "version_minor": 0
      },
      "text/plain": [
       "  0%|          | 0/34 [00:00<?, ?it/s]"
      ]
     },
     "metadata": {},
     "output_type": "display_data"
    },
    {
     "name": "stdout",
     "output_type": "stream",
     "text": [
      "d_real: 0.664324164390564\n",
      "d_fake: 0.5216342806816101\n",
      "Epoch : 23  Gen Loss : 5403.0439453125 Disc Loss : 0.13874229788780212\n"
     ]
    },
    {
     "data": {
      "application/vnd.jupyter.widget-view+json": {
       "model_id": "9c8564f2bbfa48a185146822ca07ccaf",
       "version_major": 2,
       "version_minor": 0
      },
      "text/plain": [
       "  0%|          | 0/34 [00:00<?, ?it/s]"
      ]
     },
     "metadata": {},
     "output_type": "display_data"
    },
    {
     "name": "stdout",
     "output_type": "stream",
     "text": [
      "d_real: 0.6646665930747986\n",
      "d_fake: 0.5222618579864502\n",
      "save example\n",
      "Epoch : 24  Gen Loss : 2851.070068359375 Disc Loss : 0.12413232028484344\n"
     ]
    },
    {
     "data": {
      "application/vnd.jupyter.widget-view+json": {
       "model_id": "a38f9929e73a45248c7b4bd383c7baf2",
       "version_major": 2,
       "version_minor": 0
      },
      "text/plain": [
       "  0%|          | 0/34 [00:00<?, ?it/s]"
      ]
     },
     "metadata": {},
     "output_type": "display_data"
    },
    {
     "name": "stdout",
     "output_type": "stream",
     "text": [
      "d_real: 0.6984195113182068\n",
      "d_fake: 0.5219180583953857\n",
      "Epoch : 25  Gen Loss : 5072.98095703125 Disc Loss : 0.10863343626260757\n"
     ]
    },
    {
     "data": {
      "application/vnd.jupyter.widget-view+json": {
       "model_id": "87f87c23f7fc49bea03f4ffe3ef9b73e",
       "version_major": 2,
       "version_minor": 0
      },
      "text/plain": [
       "  0%|          | 0/34 [00:00<?, ?it/s]"
      ]
     },
     "metadata": {},
     "output_type": "display_data"
    },
    {
     "name": "stdout",
     "output_type": "stream",
     "text": [
      "d_real: 0.6495094895362854\n",
      "d_fake: 0.5235030055046082\n",
      "save example\n",
      "Epoch : 26  Gen Loss : 4619.36962890625 Disc Loss : 0.14204344153404236\n"
     ]
    },
    {
     "data": {
      "application/vnd.jupyter.widget-view+json": {
       "model_id": "f01e8b5cdde040b3a024676b8cafc184",
       "version_major": 2,
       "version_minor": 0
      },
      "text/plain": [
       "  0%|          | 0/34 [00:00<?, ?it/s]"
      ]
     },
     "metadata": {},
     "output_type": "display_data"
    }
   ],
   "source": [
    "def main():\n",
    "    start = 0\n",
    "    netD = Discriminator(in_channels=3).to(config.DEVICE)\n",
    "    netG = Generator(in_channels=3).to(config.DEVICE)\n",
    "    optimizerD = torch.optim.Adam(netD.parameters(), lr = config.LEARNING_RATE, betas=(config.BETA1, 0.999))\n",
    "    optimizerG = torch.optim.Adam(netG.parameters(), lr = config.LEARNING_RATE, betas=(config.BETA1, 0.999))\n",
    "    dis_loss = nn.MSELoss()\n",
    "    gen_loss = nn.MSELoss()\n",
    "    \n",
    "    if config.LOAD_MODEL:\n",
    "        load_checkpoint(\n",
    "            config.CHECKPOINT_GEN, start-1, netG, optimizerG, config.LEARNING_RATE\n",
    "        )\n",
    "        load_checkpoint(\n",
    "            config.CHECKPOINT_DISC, start-1, netD, optimizerD, config.LEARNING_RATE\n",
    "        )\n",
    "    \n",
    "    train_dataset = Satellite2Map_Data(root=config.TRAIN_DIR)\n",
    "    train_dl = DataLoader(train_dataset, batch_size=config.BATCH_SIZE, shuffle=True, num_workers=config.NUM_WORKERS, pin_memory=True, drop_last=True)\n",
    "    val_dataset = Satellite2Map_Data(root=config.VAL_DIR)\n",
    "    val_dl = DataLoader(val_dataset, batch_size=config.BATCH_SIZE, shuffle=True, num_workers=config.NUM_WORKERS, pin_memory=True, drop_last=True)\n",
    "    \n",
    "    for epoch in range(start, config.NUM_EPOCHS):\n",
    "        train(\n",
    "            netG, netD,train_dl,optimizerG,optimizerD,gen_loss,dis_loss\n",
    "        )\n",
    "        if config.SAVE_MODEL and epoch % 10 == 0 and epoch > 0:\n",
    "            save_checkpoint(netG, optimizerG, epoch, Gen_loss[-1], Dis_loss[-1], filename= f\"./checkpoints/{epoch}_{config.CHECKPOINT_GEN}\")\n",
    "            save_checkpoint(netD, optimizerD, epoch, Gen_loss[-1], Dis_loss[-1], filename= f\"./checkpoints/{epoch}_{config.CHECKPOINT_DISC}\")\n",
    "        if epoch % 2 == 0 :\n",
    "            print(\"save example\")\n",
    "            try:\n",
    "                save_some_examples(netG,val_dl,epoch,folder=\"evaluation\")\n",
    "            except Exception as e:\n",
    "                print(f\"Something went wrong with epoch {epoch}: {e}\")\n",
    "\n",
    "        print(\"Epoch :\",epoch, \" Gen Loss :\",Gen_loss[-1], \"Disc Loss :\",Dis_loss[-1])\n",
    "    save_checkpoint(netG, optimizerG, \"final\", Gen_loss[-1], Dis_loss[-1], filename= f\"./checkpoints/{epoch}_{config.CHECKPOINT_GEN}\")\n",
    "    save_checkpoint(netD, optimizerD, \"final\", Gen_loss[-1], Dis_loss[-1], filename= f\"./checkpoints/{epoch}_{config.CHECKPOINT_DISC}\")\n",
    "\n",
    "\n",
    "if __name__ == '__main__':\n",
    "    main()"
   ]
  }
 ],
 "metadata": {
  "kernelspec": {
   "display_name": "Python 3",
   "language": "python",
   "name": "python3"
  },
  "language_info": {
   "codemirror_mode": {
    "name": "ipython",
    "version": 3
   },
   "file_extension": ".py",
   "mimetype": "text/x-python",
   "name": "python",
   "nbconvert_exporter": "python",
   "pygments_lexer": "ipython3",
   "version": "3.11.6"
  }
 },
 "nbformat": 4,
 "nbformat_minor": 2
}
